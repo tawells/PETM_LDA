{
 "cells": [
  {
   "cell_type": "code",
   "execution_count": 1,
   "metadata": {},
   "outputs": [],
   "source": [
    "from PyPDF2 import PdfFileReader \n",
    "import os, glob"
   ]
  },
  {
   "cell_type": "code",
   "execution_count": 2,
   "metadata": {},
   "outputs": [
    {
     "name": "stderr",
     "output_type": "stream",
     "text": [
      "PdfReadWarning: Xref table not zero-indexed. ID numbers for objects will be corrected. [pdf.py:1736]\n"
     ]
    },
    {
     "name": "stdout",
     "output_type": "stream",
     "text": [
      "reading ./input_pdfs/Aboul Ela 1979-1369070080/Aboul Ela 1979.pdf\n",
      "reading ./input_pdfs/Abbink et al 2001-3762128394/Abbink et al 2001.pdf\n",
      "reading ./input_pdfs/Ainsworth & Riley 2010-0151401487/Ainsworth & Riley 2010.pdf\n",
      "reading ./input_pdfs/Agelopoulos 1964-0043121678/Agelopoulos 1964.pdf\n",
      "reading ./input_pdfs/Aksu et al 1988-3310490886/Aksu et al 1988.pdf\n",
      "reading ./input_pdfs/Albert Evitt & Stein 1986-2539061510/Albert Evitt & Stein 1986.pdf\n",
      "reading ./input_pdfs/Alberti 1959-1901662214/Alberti 1959.pdf\n",
      "reading ./input_pdfs/Ainsworth et al 1987-4106081550/Ainsworth et al 1987.pdf\n",
      "reading ./input_pdfs/Agasie 1969-0438158095/Agasie 1969.pdf\n",
      "reading ./input_pdfs/Aksu & Mudie 1985-1381042182/Aksu & Mudie 1985.pdf\n",
      "reading ./input_pdfs/Alberti (trans) 1961-3361819913/Alberti (trans) 1961.pdf\n"
     ]
    }
   ],
   "source": [
    "pdfFiles = []\n",
    "\n",
    "for filename in glob.glob('./data/input_pdfs/**/*.pdf', recursive = True):  \n",
    "    if filename.endswith('.pdf'):   \n",
    "        pdfFiles.append(filename) \n",
    "        \n",
    "for filename in pdfFiles:\n",
    "   \n",
    "    try:\n",
    "        f =  open(f'{filename}', 'rb') \n",
    "        f2 = open(f'./data/output_txt/{filename.rsplit(\"/\",1)[-1][:-4]}.txt', 'w') \n",
    "        pdf = PdfFileReader(f)\n",
    "        print(f'reading {filename}')\n",
    "\n",
    "        for pageNum in range(0,pdf.numPages):\n",
    "            page = pdf.getPage(pageNum)\n",
    "            text = page.extractText()\n",
    "            f2.write(text)\n",
    "            #print(f'page{pageNum}')\n",
    "    except:\n",
    "        print (f\"busted file {filename}\")"
   ]
  },
  {
   "cell_type": "code",
   "execution_count": null,
   "metadata": {},
   "outputs": [],
   "source": []
  }
 ],
 "metadata": {
  "kernelspec": {
   "display_name": "Python 3",
   "language": "python",
   "name": "python3"
  },
  "language_info": {
   "codemirror_mode": {
    "name": "ipython",
    "version": 3
   },
   "file_extension": ".py",
   "mimetype": "text/x-python",
   "name": "python",
   "nbconvert_exporter": "python",
   "pygments_lexer": "ipython3",
   "version": "3.7.3"
  }
 },
 "nbformat": 4,
 "nbformat_minor": 2
}
