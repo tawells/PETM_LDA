{
 "cells": [
  {
   "cell_type": "code",
   "execution_count": 1,
   "metadata": {},
   "outputs": [],
   "source": [
    "import pandas as pd\n",
    "import os , re"
   ]
  },
  {
   "cell_type": "code",
   "execution_count": 2,
   "metadata": {},
   "outputs": [],
   "source": [
    "texts = []\n",
    "filenames = []\n",
    "\n",
    "for filename in os.listdir('./data/output_txt/'):\n",
    "    if filename.endswith('.txt'):\n",
    "        \n",
    "        with open(f'./data/output_txt/{filename}') as f:\n",
    "            text = f.read()\n",
    "            texts.append(text)\n",
    "            \n",
    "        filename = filename[:-4]\n",
    "        filenames.append(filename)\n",
    " "
   ]
  },
  {
   "cell_type": "code",
   "execution_count": 3,
   "metadata": {},
   "outputs": [
    {
     "data": {
      "text/html": [
       "<div>\n",
       "<style scoped>\n",
       "    .dataframe tbody tr th:only-of-type {\n",
       "        vertical-align: middle;\n",
       "    }\n",
       "\n",
       "    .dataframe tbody tr th {\n",
       "        vertical-align: top;\n",
       "    }\n",
       "\n",
       "    .dataframe thead th {\n",
       "        text-align: right;\n",
       "    }\n",
       "</style>\n",
       "<table border=\"1\" class=\"dataframe\">\n",
       "  <thead>\n",
       "    <tr style=\"text-align: right;\">\n",
       "      <th></th>\n",
       "      <th>text</th>\n",
       "      <th>filename</th>\n",
       "    </tr>\n",
       "  </thead>\n",
       "  <tbody>\n",
       "    <tr>\n",
       "      <th>0</th>\n",
       "      <td>PROCEEDINGS OF THE\\n YORKSHIR\\nE GEOLOGICAL\\n ...</td>\n",
       "      <td>Cox et al 1987</td>\n",
       "    </tr>\n",
       "    <tr>\n",
       "      <th>1</th>\n",
       "      <td>TriassicpalynologyofcentralandnorthwesternEuro...</td>\n",
       "      <td>Kuerschner &amp; Herngreen 2010</td>\n",
       "    </tr>\n",
       "    <tr>\n",
       "      <th>2</th>\n",
       "      <td>JournalofSedimentaryResearch,2017,v.87,1226Œ12...</td>\n",
       "      <td>Gani 2017</td>\n",
       "    </tr>\n",
       "    <tr>\n",
       "      <th>3</th>\n",
       "      <td>\\n\\n !\\nˇ\\n&amp;ˇ\\n\\nˆˆˆ˙\\n\\n\\n#˝˚#$#˚0\\n\\n\"ˆ3˙\\n)...</td>\n",
       "      <td>Iakovleva Brinkhuis &amp; Cavagnetto 2001</td>\n",
       "    </tr>\n",
       "    <tr>\n",
       "      <th>4</th>\n",
       "      <td>34Z FIELD EXCURSION NO. 10, NOVEMBER 11, 196Z ...</td>\n",
       "      <td>Wilson 1962</td>\n",
       "    </tr>\n",
       "  </tbody>\n",
       "</table>\n",
       "</div>"
      ],
      "text/plain": [
       "                                                text  \\\n",
       "0  PROCEEDINGS OF THE\\n YORKSHIR\\nE GEOLOGICAL\\n ...   \n",
       "1  TriassicpalynologyofcentralandnorthwesternEuro...   \n",
       "2  JournalofSedimentaryResearch,2017,v.87,1226Œ12...   \n",
       "3  \\n\\n !\\nˇ\\n&ˇ\\n\\nˆˆˆ˙\\n\\n\\n#˝˚#$#˚0\\n\\n\"ˆ3˙\\n)...   \n",
       "4  34Z FIELD EXCURSION NO. 10, NOVEMBER 11, 196Z ...   \n",
       "\n",
       "                                filename  \n",
       "0                         Cox et al 1987  \n",
       "1            Kuerschner & Herngreen 2010  \n",
       "2                              Gani 2017  \n",
       "3  Iakovleva Brinkhuis & Cavagnetto 2001  \n",
       "4                            Wilson 1962  "
      ]
     },
     "execution_count": 3,
     "metadata": {},
     "output_type": "execute_result"
    }
   ],
   "source": [
    "dct={}\n",
    "dct['text'] = texts\n",
    "dct['filename'] = filenames\n",
    "df = pd.DataFrame(dct)\n",
    "df.head()"
   ]
  },
  {
   "cell_type": "markdown",
   "metadata": {},
   "source": [
    "### Checking for duplicte files - looks good."
   ]
  },
  {
   "cell_type": "code",
   "execution_count": 4,
   "metadata": {},
   "outputs": [
    {
     "data": {
      "text/plain": [
       "1830"
      ]
     },
     "execution_count": 4,
     "metadata": {},
     "output_type": "execute_result"
    }
   ],
   "source": [
    "len(df)"
   ]
  },
  {
   "cell_type": "code",
   "execution_count": 5,
   "metadata": {},
   "outputs": [
    {
     "data": {
      "text/plain": [
       "1830"
      ]
     },
     "execution_count": 5,
     "metadata": {},
     "output_type": "execute_result"
    }
   ],
   "source": [
    "df['filename'].nunique()"
   ]
  },
  {
   "cell_type": "markdown",
   "metadata": {},
   "source": [
    "### Adding column of year document published"
   ]
  },
  {
   "cell_type": "code",
   "execution_count": 6,
   "metadata": {},
   "outputs": [
    {
     "data": {
      "text/plain": [
       "dtype('O')"
      ]
     },
     "execution_count": 6,
     "metadata": {},
     "output_type": "execute_result"
    }
   ],
   "source": [
    "def get_year(cell):\n",
    "        year = ((re.sub('\\D', '', cell)))\n",
    "        return year[:4]\n",
    "    \n",
    "df['year'] = df['filename'].map(get_year)    \n",
    "df['year'].dtype"
   ]
  },
  {
   "cell_type": "code",
   "execution_count": 7,
   "metadata": {},
   "outputs": [
    {
     "data": {
      "text/html": [
       "<div>\n",
       "<style scoped>\n",
       "    .dataframe tbody tr th:only-of-type {\n",
       "        vertical-align: middle;\n",
       "    }\n",
       "\n",
       "    .dataframe tbody tr th {\n",
       "        vertical-align: top;\n",
       "    }\n",
       "\n",
       "    .dataframe thead th {\n",
       "        text-align: right;\n",
       "    }\n",
       "</style>\n",
       "<table border=\"1\" class=\"dataframe\">\n",
       "  <thead>\n",
       "    <tr style=\"text-align: right;\">\n",
       "      <th></th>\n",
       "      <th>text</th>\n",
       "      <th>filename</th>\n",
       "      <th>year</th>\n",
       "    </tr>\n",
       "  </thead>\n",
       "  <tbody>\n",
       "    <tr>\n",
       "      <th>94</th>\n",
       "      <td>BASTROP COUNTY \\n- 8 E. H. SELLARDS Bastrop Co...</td>\n",
       "      <td>Sellards</td>\n",
       "      <td></td>\n",
       "    </tr>\n",
       "    <tr>\n",
       "      <th>112</th>\n",
       "      <td>\\n1\\n \\nDIFFERENCES\\n \\nIN THE CHEMICAL COMPO...</td>\n",
       "      <td>Bogus et al</td>\n",
       "      <td></td>\n",
       "    </tr>\n",
       "    <tr>\n",
       "      <th>901</th>\n",
       "      <td>The Catchment-Integrated Response to Rapid Cli...</td>\n",
       "      <td>Sharman et al Wilcox-PETM</td>\n",
       "      <td></td>\n",
       "    </tr>\n",
       "    <tr>\n",
       "      <th>1545</th>\n",
       "      <td>Pages 51-61  \\nAssemblages or Associations \\n\\...</td>\n",
       "      <td>Nichols text</td>\n",
       "      <td></td>\n",
       "    </tr>\n",
       "    <tr>\n",
       "      <th>1632</th>\n",
       "      <td>GULF COASTASSOCIATION OF GEOLOGICALSOCIETIES T...</td>\n",
       "      <td>Breyer</td>\n",
       "      <td></td>\n",
       "    </tr>\n",
       "  </tbody>\n",
       "</table>\n",
       "</div>"
      ],
      "text/plain": [
       "                                                   text  \\\n",
       "94    BASTROP COUNTY \\n- 8 E. H. SELLARDS Bastrop Co...   \n",
       "112    \\n1\\n \\nDIFFERENCES\\n \\nIN THE CHEMICAL COMPO...   \n",
       "901   The Catchment-Integrated Response to Rapid Cli...   \n",
       "1545  Pages 51-61  \\nAssemblages or Associations \\n\\...   \n",
       "1632  GULF COASTASSOCIATION OF GEOLOGICALSOCIETIES T...   \n",
       "\n",
       "                       filename year  \n",
       "94                     Sellards       \n",
       "112                 Bogus et al       \n",
       "901   Sharman et al Wilcox-PETM       \n",
       "1545               Nichols text       \n",
       "1632                     Breyer       "
      ]
     },
     "execution_count": 7,
     "metadata": {},
     "output_type": "execute_result"
    }
   ],
   "source": [
    "df[df['year'] == '']"
   ]
  },
  {
   "cell_type": "code",
   "execution_count": 8,
   "metadata": {},
   "outputs": [
    {
     "data": {
      "text/html": [
       "<div>\n",
       "<style scoped>\n",
       "    .dataframe tbody tr th:only-of-type {\n",
       "        vertical-align: middle;\n",
       "    }\n",
       "\n",
       "    .dataframe tbody tr th {\n",
       "        vertical-align: top;\n",
       "    }\n",
       "\n",
       "    .dataframe thead th {\n",
       "        text-align: right;\n",
       "    }\n",
       "</style>\n",
       "<table border=\"1\" class=\"dataframe\">\n",
       "  <thead>\n",
       "    <tr style=\"text-align: right;\">\n",
       "      <th></th>\n",
       "      <th>text</th>\n",
       "      <th>filename</th>\n",
       "      <th>year</th>\n",
       "    </tr>\n",
       "  </thead>\n",
       "  <tbody>\n",
       "  </tbody>\n",
       "</table>\n",
       "</div>"
      ],
      "text/plain": [
       "Empty DataFrame\n",
       "Columns: [text, filename, year]\n",
       "Index: []"
      ]
     },
     "execution_count": 8,
     "metadata": {},
     "output_type": "execute_result"
    }
   ],
   "source": [
    "# Impute year so it can be made an integer \n",
    "df['year'] = df['year'].replace('', '0001')\n",
    "df[df['year'] == '']"
   ]
  },
  {
   "cell_type": "code",
   "execution_count": 9,
   "metadata": {},
   "outputs": [
    {
     "data": {
      "text/plain": [
       "dtype('int64')"
      ]
     },
     "execution_count": 9,
     "metadata": {},
     "output_type": "execute_result"
    }
   ],
   "source": [
    "df['year'] = df['year'].astype(int)\n",
    "df['year'].dtype"
   ]
  },
  {
   "cell_type": "markdown",
   "metadata": {},
   "source": [
    "### Splitting data into train and test sets based on year"
   ]
  },
  {
   "cell_type": "code",
   "execution_count": 10,
   "metadata": {},
   "outputs": [],
   "source": [
    "def split_years(year):\n",
    "    if 1995 >= year <= 2019: \n",
    "            return 'test'\n",
    "    else:\n",
    "            return 'train'\n",
    "    \n",
    "df['split'] = df['year'].map(split_years)    "
   ]
  },
  {
   "cell_type": "code",
   "execution_count": 11,
   "metadata": {},
   "outputs": [
    {
     "data": {
      "text/html": [
       "<div>\n",
       "<style scoped>\n",
       "    .dataframe tbody tr th:only-of-type {\n",
       "        vertical-align: middle;\n",
       "    }\n",
       "\n",
       "    .dataframe tbody tr th {\n",
       "        vertical-align: top;\n",
       "    }\n",
       "\n",
       "    .dataframe thead th {\n",
       "        text-align: right;\n",
       "    }\n",
       "</style>\n",
       "<table border=\"1\" class=\"dataframe\">\n",
       "  <thead>\n",
       "    <tr style=\"text-align: right;\">\n",
       "      <th></th>\n",
       "      <th>text</th>\n",
       "      <th>filename</th>\n",
       "      <th>year</th>\n",
       "      <th>split</th>\n",
       "    </tr>\n",
       "  </thead>\n",
       "  <tbody>\n",
       "    <tr>\n",
       "      <th>0</th>\n",
       "      <td>PROCEEDINGS OF THE\\n YORKSHIR\\nE GEOLOGICAL\\n ...</td>\n",
       "      <td>Cox et al 1987</td>\n",
       "      <td>1987</td>\n",
       "      <td>test</td>\n",
       "    </tr>\n",
       "    <tr>\n",
       "      <th>1</th>\n",
       "      <td>TriassicpalynologyofcentralandnorthwesternEuro...</td>\n",
       "      <td>Kuerschner &amp; Herngreen 2010</td>\n",
       "      <td>2010</td>\n",
       "      <td>train</td>\n",
       "    </tr>\n",
       "    <tr>\n",
       "      <th>2</th>\n",
       "      <td>JournalofSedimentaryResearch,2017,v.87,1226Œ12...</td>\n",
       "      <td>Gani 2017</td>\n",
       "      <td>2017</td>\n",
       "      <td>train</td>\n",
       "    </tr>\n",
       "    <tr>\n",
       "      <th>3</th>\n",
       "      <td>\\n\\n !\\nˇ\\n&amp;ˇ\\n\\nˆˆˆ˙\\n\\n\\n#˝˚#$#˚0\\n\\n\"ˆ3˙\\n)...</td>\n",
       "      <td>Iakovleva Brinkhuis &amp; Cavagnetto 2001</td>\n",
       "      <td>2001</td>\n",
       "      <td>train</td>\n",
       "    </tr>\n",
       "    <tr>\n",
       "      <th>4</th>\n",
       "      <td>34Z FIELD EXCURSION NO. 10, NOVEMBER 11, 196Z ...</td>\n",
       "      <td>Wilson 1962</td>\n",
       "      <td>1962</td>\n",
       "      <td>test</td>\n",
       "    </tr>\n",
       "  </tbody>\n",
       "</table>\n",
       "</div>"
      ],
      "text/plain": [
       "                                                text  \\\n",
       "0  PROCEEDINGS OF THE\\n YORKSHIR\\nE GEOLOGICAL\\n ...   \n",
       "1  TriassicpalynologyofcentralandnorthwesternEuro...   \n",
       "2  JournalofSedimentaryResearch,2017,v.87,1226Œ12...   \n",
       "3  \\n\\n !\\nˇ\\n&ˇ\\n\\nˆˆˆ˙\\n\\n\\n#˝˚#$#˚0\\n\\n\"ˆ3˙\\n)...   \n",
       "4  34Z FIELD EXCURSION NO. 10, NOVEMBER 11, 196Z ...   \n",
       "\n",
       "                                filename  year  split  \n",
       "0                         Cox et al 1987  1987   test  \n",
       "1            Kuerschner & Herngreen 2010  2010  train  \n",
       "2                              Gani 2017  2017  train  \n",
       "3  Iakovleva Brinkhuis & Cavagnetto 2001  2001  train  \n",
       "4                            Wilson 1962  1962   test  "
      ]
     },
     "execution_count": 11,
     "metadata": {},
     "output_type": "execute_result"
    }
   ],
   "source": [
    "df.head()"
   ]
  },
  {
   "cell_type": "code",
   "execution_count": 12,
   "metadata": {},
   "outputs": [
    {
     "data": {
      "text/html": [
       "<div>\n",
       "<style scoped>\n",
       "    .dataframe tbody tr th:only-of-type {\n",
       "        vertical-align: middle;\n",
       "    }\n",
       "\n",
       "    .dataframe tbody tr th {\n",
       "        vertical-align: top;\n",
       "    }\n",
       "\n",
       "    .dataframe thead th {\n",
       "        text-align: right;\n",
       "    }\n",
       "</style>\n",
       "<table border=\"1\" class=\"dataframe\">\n",
       "  <thead>\n",
       "    <tr style=\"text-align: right;\">\n",
       "      <th></th>\n",
       "      <th>text</th>\n",
       "      <th>filename</th>\n",
       "      <th>year</th>\n",
       "    </tr>\n",
       "    <tr>\n",
       "      <th>split</th>\n",
       "      <th></th>\n",
       "      <th></th>\n",
       "      <th></th>\n",
       "    </tr>\n",
       "  </thead>\n",
       "  <tbody>\n",
       "    <tr>\n",
       "      <th>test</th>\n",
       "      <td>487</td>\n",
       "      <td>487</td>\n",
       "      <td>487</td>\n",
       "    </tr>\n",
       "    <tr>\n",
       "      <th>train</th>\n",
       "      <td>1343</td>\n",
       "      <td>1343</td>\n",
       "      <td>1343</td>\n",
       "    </tr>\n",
       "  </tbody>\n",
       "</table>\n",
       "</div>"
      ],
      "text/plain": [
       "       text  filename  year\n",
       "split                      \n",
       "test    487       487   487\n",
       "train  1343      1343  1343"
      ]
     },
     "execution_count": 12,
     "metadata": {},
     "output_type": "execute_result"
    }
   ],
   "source": [
    "df.groupby('split').count()"
   ]
  },
  {
   "cell_type": "code",
   "execution_count": 13,
   "metadata": {},
   "outputs": [
    {
     "data": {
      "text/plain": [
       "0.26612021857923496"
      ]
     },
     "execution_count": 13,
     "metadata": {},
     "output_type": "execute_result"
    }
   ],
   "source": [
    "487/len(df)"
   ]
  },
  {
   "cell_type": "code",
   "execution_count": 14,
   "metadata": {},
   "outputs": [
    {
     "data": {
      "text/html": [
       "<div>\n",
       "<style scoped>\n",
       "    .dataframe tbody tr th:only-of-type {\n",
       "        vertical-align: middle;\n",
       "    }\n",
       "\n",
       "    .dataframe tbody tr th {\n",
       "        vertical-align: top;\n",
       "    }\n",
       "\n",
       "    .dataframe thead th {\n",
       "        text-align: right;\n",
       "    }\n",
       "</style>\n",
       "<table border=\"1\" class=\"dataframe\">\n",
       "  <thead>\n",
       "    <tr style=\"text-align: right;\">\n",
       "      <th></th>\n",
       "      <th>text</th>\n",
       "      <th>filename</th>\n",
       "      <th>year</th>\n",
       "      <th>split</th>\n",
       "    </tr>\n",
       "  </thead>\n",
       "  <tbody>\n",
       "    <tr>\n",
       "      <th>0</th>\n",
       "      <td>PROCEEDINGS OF THE\\n YORKSHIR\\nE GEOLOGICAL\\n ...</td>\n",
       "      <td>Cox et al 1987</td>\n",
       "      <td>1987</td>\n",
       "      <td>test</td>\n",
       "    </tr>\n",
       "    <tr>\n",
       "      <th>1</th>\n",
       "      <td>TriassicpalynologyofcentralandnorthwesternEuro...</td>\n",
       "      <td>Kuerschner &amp; Herngreen 2010</td>\n",
       "      <td>2010</td>\n",
       "      <td>train</td>\n",
       "    </tr>\n",
       "    <tr>\n",
       "      <th>2</th>\n",
       "      <td>JournalofSedimentaryResearch,2017,v.87,1226Œ12...</td>\n",
       "      <td>Gani 2017</td>\n",
       "      <td>2017</td>\n",
       "      <td>train</td>\n",
       "    </tr>\n",
       "    <tr>\n",
       "      <th>3</th>\n",
       "      <td>\\n\\n !\\nˇ\\n&amp;ˇ\\n\\nˆˆˆ˙\\n\\n\\n#˝˚#$#˚0\\n\\n\"ˆ3˙\\n)...</td>\n",
       "      <td>Iakovleva Brinkhuis &amp; Cavagnetto 2001</td>\n",
       "      <td>2001</td>\n",
       "      <td>train</td>\n",
       "    </tr>\n",
       "    <tr>\n",
       "      <th>4</th>\n",
       "      <td>34Z FIELD EXCURSION NO. 10, NOVEMBER 11, 196Z ...</td>\n",
       "      <td>Wilson 1962</td>\n",
       "      <td>1962</td>\n",
       "      <td>test</td>\n",
       "    </tr>\n",
       "    <tr>\n",
       "      <th>5</th>\n",
       "      <td>N.z. Journal of Geology and Geophysics, Vol. 1...</td>\n",
       "      <td>Wilson 1976</td>\n",
       "      <td>1976</td>\n",
       "      <td>test</td>\n",
       "    </tr>\n",
       "    <tr>\n",
       "      <th>6</th>\n",
       "      <td>GEOLOGY | July 2014 \\n| www.gsapubs.org \\n607I...</td>\n",
       "      <td>Blum &amp; Pecha 2014</td>\n",
       "      <td>2014</td>\n",
       "      <td>train</td>\n",
       "    </tr>\n",
       "    <tr>\n",
       "      <th>7</th>\n",
       "      <td>MesozoicandCenozoicSequenceStratigraphyofEurop...</td>\n",
       "      <td>Michelsen et al 1998</td>\n",
       "      <td>1998</td>\n",
       "      <td>train</td>\n",
       "    </tr>\n",
       "    <tr>\n",
       "      <th>8</th>\n",
       "      <td>REPLY ESTUARINE FACIES MODELS: CONCEPTUAL BASI...</td>\n",
       "      <td>Dalrymple et al 1994</td>\n",
       "      <td>1994</td>\n",
       "      <td>test</td>\n",
       "    </tr>\n",
       "    <tr>\n",
       "      <th>9</th>\n",
       "      <td>OntheglobaldistributionofLateCretaceousOstraco...</td>\n",
       "      <td>Puckett 2009</td>\n",
       "      <td>2009</td>\n",
       "      <td>train</td>\n",
       "    </tr>\n",
       "    <tr>\n",
       "      <th>10</th>\n",
       "      <td>Copyright2008,SEPM(SocietyforSedimentaryGeolog...</td>\n",
       "      <td>Hubbard &amp; Shultz 2008</td>\n",
       "      <td>2008</td>\n",
       "      <td>train</td>\n",
       "    </tr>\n",
       "    <tr>\n",
       "      <th>11</th>\n",
       "      <td>JOURNALOF\\nSEDIMENTARY\\nRESEARCH\\n,VOL.73,N\\nO...</td>\n",
       "      <td>Willis &amp; Gabel 2003</td>\n",
       "      <td>2003</td>\n",
       "      <td>train</td>\n",
       "    </tr>\n",
       "    <tr>\n",
       "      <th>12</th>\n",
       "      <td>6.A.Volbeda\\netal.\\n,J.Am.Chem.Soc.\\n118,12989...</td>\n",
       "      <td>Storey et al 2007</td>\n",
       "      <td>2007</td>\n",
       "      <td>train</td>\n",
       "    </tr>\n",
       "    <tr>\n",
       "      <th>13</th>\n",
       "      <td>Originandcompositionoforganicmatterintidalﬂats...</td>\n",
       "      <td>Freese Koster &amp; Rullkotter 2008</td>\n",
       "      <td>2008</td>\n",
       "      <td>train</td>\n",
       "    </tr>\n",
       "    <tr>\n",
       "      <th>14</th>\n",
       "      <td>Tidal ~&amp;Iwc~ in Cretaceoos flwial' strata from...</td>\n",
       "      <td>Shanley McCabe &amp; Hettinger 1992</td>\n",
       "      <td>1992</td>\n",
       "      <td>test</td>\n",
       "    </tr>\n",
       "  </tbody>\n",
       "</table>\n",
       "</div>"
      ],
      "text/plain": [
       "                                                 text  \\\n",
       "0   PROCEEDINGS OF THE\\n YORKSHIR\\nE GEOLOGICAL\\n ...   \n",
       "1   TriassicpalynologyofcentralandnorthwesternEuro...   \n",
       "2   JournalofSedimentaryResearch,2017,v.87,1226Œ12...   \n",
       "3   \\n\\n !\\nˇ\\n&ˇ\\n\\nˆˆˆ˙\\n\\n\\n#˝˚#$#˚0\\n\\n\"ˆ3˙\\n)...   \n",
       "4   34Z FIELD EXCURSION NO. 10, NOVEMBER 11, 196Z ...   \n",
       "5   N.z. Journal of Geology and Geophysics, Vol. 1...   \n",
       "6   GEOLOGY | July 2014 \\n| www.gsapubs.org \\n607I...   \n",
       "7   MesozoicandCenozoicSequenceStratigraphyofEurop...   \n",
       "8   REPLY ESTUARINE FACIES MODELS: CONCEPTUAL BASI...   \n",
       "9   OntheglobaldistributionofLateCretaceousOstraco...   \n",
       "10  Copyright2008,SEPM(SocietyforSedimentaryGeolog...   \n",
       "11  JOURNALOF\\nSEDIMENTARY\\nRESEARCH\\n,VOL.73,N\\nO...   \n",
       "12  6.A.Volbeda\\netal.\\n,J.Am.Chem.Soc.\\n118,12989...   \n",
       "13  Originandcompositionoforganicmatterintidalﬂats...   \n",
       "14  Tidal ~&Iwc~ in Cretaceoos flwial' strata from...   \n",
       "\n",
       "                                 filename  year  split  \n",
       "0                          Cox et al 1987  1987   test  \n",
       "1             Kuerschner & Herngreen 2010  2010  train  \n",
       "2                               Gani 2017  2017  train  \n",
       "3   Iakovleva Brinkhuis & Cavagnetto 2001  2001  train  \n",
       "4                             Wilson 1962  1962   test  \n",
       "5                             Wilson 1976  1976   test  \n",
       "6                       Blum & Pecha 2014  2014  train  \n",
       "7                    Michelsen et al 1998  1998  train  \n",
       "8                    Dalrymple et al 1994  1994   test  \n",
       "9                            Puckett 2009  2009  train  \n",
       "10                  Hubbard & Shultz 2008  2008  train  \n",
       "11                    Willis & Gabel 2003  2003  train  \n",
       "12                      Storey et al 2007  2007  train  \n",
       "13        Freese Koster & Rullkotter 2008  2008  train  \n",
       "14        Shanley McCabe & Hettinger 1992  1992   test  "
      ]
     },
     "execution_count": 14,
     "metadata": {},
     "output_type": "execute_result"
    }
   ],
   "source": [
    "df.head(15)"
   ]
  },
  {
   "cell_type": "code",
   "execution_count": 15,
   "metadata": {},
   "outputs": [
    {
     "data": {
      "text/plain": [
       "(1830, 4)"
      ]
     },
     "execution_count": 15,
     "metadata": {},
     "output_type": "execute_result"
    }
   ],
   "source": [
    "df.shape\n",
    "\n",
    "# 2129 total documents"
   ]
  },
  {
   "cell_type": "markdown",
   "metadata": {},
   "source": [
    "### Cleaning text up a bit"
   ]
  },
  {
   "cell_type": "code",
   "execution_count": 16,
   "metadata": {},
   "outputs": [
    {
     "data": {
      "text/plain": [
       "'Copyright2008,SEPM(SocietyforSedimentaryGeology)0883-1351/08/0023-0223/$3.00\\nPALAIOS,2008,v.23,p.223Œ232\\nResearchArticle\\nDOI:10.2110/palo.2006.p06-127r\\nDEEPBURROWSINSUBMARINEFAN-CHANNELDEPOSITSOFTHECERROTOROFORMATION\\n(CRETACEOUS),CHILEANPATAGONIA:IMPLICATIONSFORFIRMGROUNDDEVELOPMENT\\nANDCOLONIZATIONINTHEDEEPSEA\\nSTEPHENM.HUBBARD\\n1*andMICHAELR.SHULTZ\\n21UniversityofCalgary,DepartmentofGeoscience,Calgary,Alberta,T2N1N4,Canada;\\n2ChevronEnergyTechnologyCompany,6001BollingerCanyonRoad,\\nSanRamon,California,94583-2324,USA\\ne-mail:steve.hubbard@ucalgary.ca\\nABSTRACTTheGlossifungitesichnofaciesrecognizedinCretaceousstrata(Cerro\\nToroFormation)oftheMagallanesforelandbasininsouthernChile\\n\\nrepresentsanimportantdiscoveryinthatitextendsthestratigraphic\\nutilityof˚rmgroundtrace-fossilsuitesintothick-bedded,gravity-\\n˜owdepositsofsubmarinefan-channelenvironments.Thetrace-\\n\\nfossilsuiteconsistsofatypicallylarge\\nDiplocraterion,Skolithos,and\\nArenicolites,whichmayreachaninferredlengthof7m.Theburrows\\npenetratemuddy,matrix-supportedconglomeraticdepositsdewa-\\n\\nteredandconsolidatedasaresultofburialandsubsequentlyex-\\n\\nhumedbyerosiveturbiditycurrents.Inastratigraphicsuccession\\n\\ndominatedbycoarse-grainedfacies\\n350mthick,theburrowsare\\nabundantatonestratigraphichorizoncorrelatableupto200km\\n2.Thishorizonisinterpretedasastratigraphicdiscontinuityassociated\\n\\nwithalong-termcessationofcoarse-grained,sediment-ladengravity\\n\\n˜owsintothebasin.Thecolonizedsurfaceistheonlymarkerhorizon\\n\\ntraceableacrossmuchoftheMagallanesbasinstudyarea.\\nINTRODUCTIONTheobjectivesofthispaperareto(1)documentanoutcropexample\\nofadeep-waterÞrmgroundsurfacecharacterizedbyextraordinarytrace\\n\\nfossilsuptoaninferre\\nd7min\\nlength,(2)reviewpossiblemechanisms\\nforÞrmgrounddevelopmentinthedeepsea,(3)discussthepotential\\n\\norganismsresponsibleforthetracefossils,and(4)speculateonthestrati-\\n\\ngraphicsigniÞcanceoftheÞrm-groundsurface.\\nTheGlossifungitesichnofaciesisamedia-(substrate-)controlledtrace-\\nfossilassemblage,consistingofstructuresexcavatedinÞrm,semi-\\n\\nconsolidatedsediments(Seilacher,1964;FreyandSeilacher,1980).As-\\nsociatedtracefossilsaretypicallyrobust,unlinedwithsharpwalls,pas-\\nsivelyÞlled,verticaltosubvertical,andcommonlyshowevidenceof\\ninsituorganismgrowth.The\\nGlossifungitesichnofaciesisoftenassociated\\nwithwidespreaddiscontinuitiesintherockrecord(\\nGlossifungitessurfac-\\nes),interpretedtorepresenttimegapsbetweenthedepositionofunits\\n\\nandthesubsequentcolonizationbyÞrmgroundburrowers(Savrda,1991;\\n\\nMacEachernetal.,1992).Thisprocessinvolvesburialofsoftsediment,\\n\\nsubsequentdewatering,andÞnallyexhumation,resultinginexposureof\\n\\nconsolidatedsediment(PembertonandFrey,1985).AswithanysigniÞ-\\n\\ncantstratigraphicsurface,theutilityofa\\nGlossifungitessurfaceasamark-\\nerhorizonwithinastratigraphicpackageisdependantonitsregional\\n\\nextent(PembertonandMacEachern,1995;Gingrasetal.,2000).\\nFirmgroundburrowshavebeenwellstudiedinancientandmodern\\nmarginal-marinedeposits(e.g.,PembertonandFrey,1985;Savrda,1991;\\n\\nMacEachernetal.,1992;Gingrasetal.,2000,2001).Theyhavebeen\\n\\nrarelydocumentedfromdeep-water(bathyal)successions,however.Asa\\n\\nresult,thestratigraphicutilityoftracefossilsassociatedwiththe\\nGlos-sifungitesichnofaciesindeep-waterenvironmentsisnotwellestablished.\\n*Correspondingauthor.\\nHayward(1976)observedaÞrmgroundtrace-fossilassemblageformed\\nonthewallofanincisedsubmarinecanyonthatwassubsequentlyburied\\n\\nbycoarseturbiditicsand.Andersonetal.(2006)documentedarelatively\\n\\nlocaloccurrenceofthe\\nGlossifungitesichnofaciesfromtheßoorofa\\nsubmarinecanyonchannel,formedthroughtheexhumationofaÞrm\\nsiltstonelayerbyerosiveturbiditycurrents.BromleyandAllouc(1992)\\n\\ndescribedboringsinmodernbathyalhardgroundsformedthroughsurÞ-\\n\\nciallithiÞcationofcarbonateoozes.Erosionassociatedwithbottom-\\n\\ncurrentwinnowingduringrapidtransgressionÑaperiodofsedimentstar-\\n\\nvationÑprovidedthemechanismforwidespreadÞrmgroundformationin\\n\\ntheTertiaryoftheNewJerseyslope(Savrdaetal.,2001).MacEachern\\n\\nandBurton(2000)assignedanunusualsuiteoftracefossilsfromthe\\n\\nVikingFormationofAlbertatothe\\nGlossifungitesichnofacies.Theyin-\\nterpretedtheÞrmgroundsurfacetohavebeenexcavatedabovefair-weath-\\n\\nerwavebaseandsubsequentlycolonizedbelowwavebasefollowinga\\n\\nrapidtransgressionofthesea.Despitetheseexamples,mechanismsfor\\n\\nthegenerationofregionallyextensiveÞrmgroundsurfacesinthedeep\\n\\nseaarenotwellunderstood,particularlythoseassociatedwithsiliciclastic\\n\\nsubmarinefan-channelsuccessions.\\nGEOLOGICSETTING\\nThestudyareaislocatedintheUltimaEsperanzaDistrictofsouthern\\nChile(Figs.1AÐB).TheintervalstudiedconsistsoftheCerroToroFor-\\n\\nmation(SantonianÐCampanian),partoftheoverall,upward-shallowing\\n\\nÞlloftheMagallanesforelandbasin(Fig.2).Studiesofbenthicfora-\\n\\nminiferasuggestthatthepaleobathymetryofthebasinwasbetween1000\\n\\nand2000mduringdepositionofthestratastudied(Natlandetal.,1974).\\n\\nGravity-ßowdepositsoftheCerroToroFormationaccumulatedina\\n\\nNorth-SouthÐtrendingdeep-waterchannelbeltpresentalongtheaxisof\\n\\ntheMagallanesbasinforedeep(basin-ßoor\\n10Ð20kminwidthand\\n100kmlong;seeFigs.1A,C;Hubbardetal.,2008).Theformation\\n(2kmthick)includesathickinterval(300Ð400mormore)ofcoarse,\\nconglomeraticfan-channelmaterialencasedinbathyalmudstone(Katz,\\n\\n1963;Scott,1966).WinnandDott(1979)interpretedasouthwardpro-\\n\\ngradingdeep-seafansystemfedfromacanyontothenorth,basedon\\n\\nextensivepaleocurrentdatafromthecoarse-grainedinterval.Evidenceof\\n\\nturbiditycurrent,traction,anddebris-ßowprocessesispresentwithinthe\\n\\nconglomeraticstratastudied.\\nTracefossilsarerareinconglomerate-dominatedfaciesdepositedin\\nthechannelaxisdespitefavorableenvironmentalconditionsforbenthic\\n\\ncommunitiesinadjacentareaswhereoverbankßowsdepositedÞne-\\n\\ngrainedsediment.Itisprobablethatgravellysedimentsandfrequent,\\n\\nimmensegravity-ßoweventshinderedinfaunalcolonizationinthe\\n\\nchannel-ßoorenvironment.Overbankunitsarecharacterizedbyamod-\\n\\nerateabundanceandhighdiversityoftracefossils,including\\nAlcyoni-diopsis,Arenicolites,Chondrites,Gyrolithes,Helminthoida,Helminthop-sis,Ophiomorpha,Palaeophycus,Phycosiphon,Planolites,Rosselia,Scolicia,Skolithos,Spirophyton,Spongeliomorpha,Thalassinoides,Zoo-phycos,radiatingburrowsonturbiditesoles,andvariouscrawlingtrails\\n224PALAIOSHUBBARDANDSHULTZ\\nFIGURE1\\nÑOverviewofthePatagonianstudyarea.A)LandsatimageofSierra\\ndelToroandCordilleraManuelSen\\n÷oret,UltimaEsperanzaDistrict,southernChile.\\nConglomerateoftheCerroToroFormationcapssnow-coveredpeaks(channelout-\\n\\nlinefromHubbardetal.,2008).Numbers\\nmeasuredsectionlocations,including\\nSierradelToro,CerroCastillo,andVentanaCreek.ThepeakofCerroCastilloisat\\n\\n1020m;theelevationofLagoSoÞaisnearsealevel.B)Locationofstudyarea\\n\\n(star)atthesouthernpartofSouthAmerica.C)SimpliÞedpaleogeographicrecon-\\n\\nstructionofthenarrowforedeepoftheMagallanesbasinshowstheconÞned,deep-\\n\\nwaterfanÐchannelcomplexresponsiblefordepositionoftheCerroToroFormation.\\nFIGURE2\\nÑGeneralizedstratigraphyoftheMagallanesbasin(adaptedfromNat-\\nlandetal.,1974;Wilson,1991;Fildanietal.,2003;ShultzandHubbard,2005).\\n(Fig.3).Mud-linedtracefossils(e.g.,\\nPalaeophycusandRosselia)are\\nobservedrarelywithinturbiditesandsdepositedinthechannelaxis.Firm-\\n\\ngroundburrowsdiscussedherearetheonlystructurespresentingravel-\\n\\ndominatedchannel-beltdeposits.\\nGLOSSIFUNGITES-ASSOCIATEDTRACEFOSSILS\\nThetrace-fossilsuiteconsistsofcommonverticaltosubvertical\\nDi-plocraterionandSkolithos,aswellasrare\\nArenicolites(Figs.4Ð5).For\\neachofthesetrace-fossiltypes,individualburrowshaftsare0.5cmin\\n\\ndiameteronaverage,0.3to7mlong,andaresharpwalled;spreiteof\\n\\nDiplocraterionareexclusivelyprotrusive.Theburrowlengthsarein-\\nferredfromtheirpositionwithinthickgravityßowdeposits,asdiscussed\\n\\nlater.Trace-fossildensitywassensitivetoclastpercentagewithincon-\\n\\nglomeratichostgravity-ßowdeposits;reduceddensitiesareobserved\\n\\nwhereextrabasinalclastpercentageexceeds20%Ð30%ofthetotalrock\\n\\nvolume.Burrowshaftsfollowtortuouspathsinareaswhereextrabasinal\\nclastsareabundant(Figs.4AÐB).Well-sorted,Þne-tomedium-\\ngrainedsandstoneistheprimaryconstituentoftheburrowÞll.Recog-\\n\\nnitionofthetracefossilsintheÞeldisenhancedbythecontrasting\\n\\ntextureofthedark,mud-dominatedfaciesintowhichtheburrowspen-\\n\\netrated,andtheclean,light-coloredpassivesandÞlllikelyderivedfrom\\n\\nbypassingturbulentßows(Figs.4Ð5).\\nSuchcharacteristicsaslithologicallydistinctivepassiveÞlls,sharpbur-\\nrowwalls,andextremecolonizationdepthofthetracefossilssuggest\\n\\nthatexcavationtookplaceintoÞrmsediment.Robust,verticalburrow\\n\\nconstructionandmaintenanceinsoft,muddysedimentsbyorganismsis\\n\\nrareowingtodifÞcultiesinpreventingstructuralcollapse,especially\\n\\nwhereburrowsareexcavateddeeply(PembertonandMacEachern,1995).\\n\\nMacEachernetal.(1992)recognizedthatpassiveinÞllingofadeep,\\n\\nunlinedburrowinsoft,muddysedimentbeforeitcollapsesisunlikely.\\n\\nBurrowclosureduetoslumpingorcompactionwouldhaveoccurred\\n\\nbecauseofthenarrowshaftdiameteroftheburrowsiftheseaßoorwere\\n\\nnotwellcompacted.Thetrace-fossilassemblageisassignedtothe\\nGlos-sifungitesichnofacies.NATUREOFCOLONIZEDDEPOSITS\\nTracefossilsexclusivelypenetratedmuddy,matrix-supportedconglom-\\neraticdepositscharacterizedbythepresenceoflarge(upto3mdiameter)\\n\\nraftedintrabasinalmudstoneblocks.Bothmatrixmaterialandrafted\\n\\nblockswerecolonized,whereaswell-roundedextrabasinalclastswerenot\\n\\n(Fig.4).Depositswerenotassociatedwithanoriginallyshiftingpartic-\\n\\nulateseaßoor,asnophysicalsedimentarystructuresarepresent.Bedsof\\n\\nthesamefacies,sandy-matrixconglomerate,orlenticularsandstoneover-\\n\\nliecolonizeddeposits.Discontinuoussandstoneandconglomeratelenses\\n\\narecharacterizedcommonlybytractionstructures,oftenpresentÞlling\\n\\nerosionalincisionsontopoftheburrowedsurface.Thesedepositsrep-\\n\\nresentthelagsoferosivegravityßowsthatlargelybypassedthearea\\n\\n(Hubbardetal.,2008).\\nWithinthemud-matrixconglomeraticdeposits,individualsedimenta-\\ntionunitsÑdepositsofasinglesedimentgravity-ßoweventthataccu-\\n\\nmulatedoveraperiodontheorderofafewhoursÑcanbedelineated\\n\\nclearly(Figs.4EÐF).Theseunitsarecharacterizedby(1)sharpbases\\n\\n(Fig.4E)overlainbythin(\\n5cm)inverselygradedintervalslocally,(2)\\nadecreaseinextrabasinalclastpercentageupwardwithabasal,extra-\\n\\nbasinalclast-supportedintervaltypical(Fig.4F),(3)decreasingmaxi-\\n\\nmumextrabasinalclastsizeupwardthroughtheßowunit(Fig.4F),(4)\\n\\nsandymudmatrixthroughout(Fig.5),and(5)asharp,broadlyundulating\\n\\ntoßattop(Fig.4E).Thecontactbetweenthebasalextrabasinalclast-\\nPALAIOS225DEEP-SEAFIRMGROUNDTRACEFOSSILS\\nFIGURE3\\nÑTracefossilsoftheCerroToroFormationinthick-to-thin-beddedturbiditeslargelydepositedinchannel-overbanksettings.A)\\nChondritesisp.(9mmwide\\npencil).B)\\nHelminthoidaisp.CÐD)UnidentiÞedburrowsonthesolesofturbiditebeds.E)Large\\nChondritesisp.F)\\nSkolithosisp.G)\\nAlcyonidiopsisisp.H)\\nSpirophytonisp.I)Phycosiphonisp.J)\\nSpongeliomorphaisp.onthesoleofaturbidite.K)\\nOphiomorphaisp.inathick-beddedturbiditedepositedinthechannel.L)\\nGyrolithesisp.226PALAIOSHUBBARDANDSHULTZ\\nPALAIOS227DEEP-SEAFIRMGROUNDTRACEFOSSILS\\nFIGURE4\\nÑColonizedgravity-ßowdepositsoftheCerroToroFormation.A)Trace-fossildistributioninclast-rich,matrix-supportedgravity-ßowdeposit(\\nCerroCastillo,\\n194Ð195m).B)Linedrawingoffeaturesin(A),emphasizingeffectofextrabasinalclastsonburrow-shafttrajectories.C)Topofsamebedfeaturedin\\n(A),located\\napproximately300mtothesouth.Notelocationofphoto,atthetopofan8.5-m-thicksedimentationunitin(E).D)Linedrawingofareaoutlinedbyboxi\\nn(C).E)\\nStratigraphicsuccessionconsistingoftwocompletegravity-ßowbedscharacterizedbythe\\nGlossifungitesichnofacies:P1\\nmostthorough,andextensivebioturbation.\\nBurrowsinferredupto7mdeepfromthetopofthisunit(CerroCastilloSection,192Ð201m).Staffis1.5mlong.F)Schematicrepresentationofsedimen\\ntologicattributes\\nassociatedwiththeunitsin(E).Averagegrainsize,maximumextrabasinalclastsize,andclastpercentagedecreasesupwardthroughthetransition\\nfromclast-to-matrix-\\nsupportedconglomerate,towardthetopofthesedimentationunit.\\nsupportedintervalandtheoverlyingmatrix-supportedintervalcanbe\\ngradationalorsharp(Fig.4E).\\nSedimentationunitsrangebetween3and20minthickness;those\\nassociatedwiththeburrowsare6Ð9mthickonaverage.Recognizingthe\\n\\nsedimentationunittopiscrucialindeterminingwheretheancient\\n\\nsediment-waterinterfaceexistedwithinthestratigraphiccolumnand,\\n\\nthus,howdeepindividualburrowspenetrated.Owingtothenarrowdi-\\n\\nameterandtheapparentextremedepthofburrows,individualshaftsare\\n\\nonlydiscontinuouslyexposedonunevenoutcropsurfaces(Figs.4AÐD,\\n\\n5A).Themaximumdepthofburrowpenetrationisdeterminedasthe\\n\\nverticaldistancebetweenthetopofthebedandthedeepesttrace-fossil\\n\\noccurrencewithinthebed(sometimesthepreservationofaU-shaped\\n\\ntube;seeFig.5D).Burrowsdonotcrosssedimentationunitboundaries.\\n\\nThetrace-makingorganismswereevidentlynotabletoburrowthrough\\n\\nclast-supportedconglomerateatbedbases(Fig.4F).Notably,burrow\\n\\ndensitydecreasesfromthebedtopdownward,intomoreclast-richpor-\\n\\ntionsofthesedimentationunit(Fig.4F).\\nThereisnopalimpsestsoft-groundtrace-fossilsuiteinthedeposits\\noverprintedbytheÞrmgroundtrace-fossilsuite.Thepresenceofexten-\\n\\nsivebiogenicreworkingincontemporaneousoverbankdeposits(Fig.3)\\n\\nsuggeststhataconditionorseriesofconditionsexistedwithinthechannel\\n\\nbeltthalwegnotconducivetothedevelopmentofaninfaunal-burrowing\\n\\ncommunity.Agravellyseaßoorwouldhavebeenadeterrenttomany\\n\\npotentialtrace-makingorganisms.Furthermore,theabsenceofsoft-\\n\\ngroundtracefossilsisattributed,inpart,tothe3Ð20-m-thicksedimen-\\n\\ntationunitsthatwereemplacedoverashorttime.Thetopsofbedswere,\\n\\ntherefore,mostlikelytobereworkedbiogenically,however,theyinher-\\n\\nentlyhadlow-preservationpotentialbecauseofapropensitytobeeroded\\n\\nbyturbiditycurrentsinthechannelenvironment.\\nSohnetal.(2002)suggestedthatthecolonizeddepositsresultedfrom\\ngravityßowsthatoriginatedasdebrisßows,which,throughpartialdi-\\n\\nlution,formedhigh-densityturbiditycurrentsattheheadsoftheßows.\\n\\nResultantdepositsarecharacterizedbyclast-supportedconglomerateat\\n\\nthebase,whichwassupportedbyturbulencewithintheparentalgravity\\n\\nßowandamoredebris-ßow-like,mud-matrix-supportedconglomeratic\\n\\nintervalsupportedbysedimentcohesionatthetop(Sohnetal.,2002).\\n\\nAlternatively,theseßowsmayhavebeengeneratedfromturbiditycur-\\n\\nrents,incorporatingmudastheytraveleddownslope(WinnandDott,\\n\\n1979).ThisissuggestedbycommonraftedÞne-grainedsedimentblocks\\n\\ninvariousstagesofdisaggregationatthetopsofindividualsedimentation\\n\\nunits(Hubbardetal.,2008).Adownstreamproportionalincreaseofmud-\\n\\nmatrixconglomeratebedsinthechannelcomplexalsosupportsthisin-\\n\\nterpretation(Crane,2004;Hubbardetal.,2008).Crane(2004)recognized\\n\\nthatthesandfractionofoneofthesesedimentationunitsfromtheCerro\\n\\nToroFormationwasnormallygradedand,further,thateventheupper\\n\\npoorlysortedmuddypartofthegravity-ßowdepositwasrichinsand-\\n\\nsizedgrains.Turbulencewasanimportantprocessduringsedimentation,\\n\\nbasedontheseobservations(Crane,2004,2007).\\nSTRATIGRAPHICDISTRIBUTION\\nAseriesofsectionsweremeasuredthroughthecoarse-grainedmember\\noftheCerroToroFormationatSierradelToroandintheCordillera\\n\\nManuelSen\\n÷oret(Figs.1A,6).ThehighestdensityofÞrmgroundtrace\\nfossilsisobservedinacorrelativepositionwithinthestratigraphicsuc-\\n\\ncessionateachlocation(primarysurfaceP1;seeFig.6).Thestratigraphic\\nsuccessionischaracterizedbyalternatingpackagesofdominantlysandy\\nanddominantlymuddyconglomeraticdeposits(Fig.6).Theselayerscan\\n\\nbecorrelatedacrossmuchofthestudyarea,usingsurfaceP1asadatum\\n\\n(Fig.6).Theburrowedhorizonisrelativelywidespread,presentacrossa\\n\\ndepositionalsystemthatcoveredmuchoftheMagallanesbasinforedeep\\n\\noveranareaatleast14.5kmlong(betweenCerroCastilloandVentana\\n\\nCreek)andalmost6kmwidealongtheMagallanesbasinaxis.Walking\\n\\noutthestratigraphichorizonoverlargedistancesisnotpossibleinmuch\\n\\noftheoutcropbeltbecauseofglacialerosionoftheformation(e.g.,\\n\\nbetweenSierradelToroandCerroCastillo;seeFigs.1A,6).Despitethis,\\n\\ntherepeatedbedsetstackingpatternandconsistentrelativepositionof\\n\\ntheburrowedhorizonindicatesthatthesurfaceiscorrelatableforgreater\\n\\nthan35kmalongthebasinaxis(fromSierradelTorotoVentanaCreek;\\n\\nseeFig.6).\\nInallbutonesection,onlyasingleburrowedsurface(P1)wasiden-\\ntiÞed.AttheCerroCastillolocation,P1andfouradditionalÞrmground\\n\\nhorizons(secondarysurfacesS1Ð4;seeFig.6)arerecognized.Coloni-\\n\\nzationofsecondaryhorizonsisnotablypatchy(lateralcontinuitytypi-\\n\\ncally100m);thetracefossilsareconsiderablysmalleronaverage(0.5Ð\\n3mlongwithshaftsoften\\n0.3cmindiameter;seeFig.5H)andare\\npresentinlowerdensities(Fig.5G)comparedwiththeprimaryburrowed\\n\\nÞrmgroundhorizon(P1).\\nDISCUSSIONPaleoenvironmentalConsiderations\\nThemostlikelyorganismsresponsibleforthetracefossilsintheCerro\\nToroFormationareworms,owingtothenarrowdiameterandinferred\\n\\nextremelengthofindividualburrowshafts.Speciesofbothannelidand\\n\\nnemetarianwormscangrowtolengthsthatcouldaccommodatethebur-\\n\\nrowsstudied(uptoseveralmeterslong;seeBruscaandBrusca,2003).\\n\\nFurthermore,speciesfrombothphylacommonlyinhabitburrows.Larval\\n\\nspatlikelyspreadfromslopesproximaltothechannelbeltorwerede-\\n\\nrivedfromshallowenvironments(e.g.,shelf),spreadingacrossthebasin\\n\\nßoorviaturbiditycurrents(cf.HagermanandRieger,1981;Pemberton\\n\\nandMacEachern,1997).Thetracemakersareinterpretedtohavethrived\\n\\nintheopennichethatthebasinßoorprovidedduringacessationoflarge,\\n\\ncoarse-grained(gravelly)sediment-gravityßowevents,basedonthe\\n\\nhigh-densityandwell-developednatureofburrows.\\nFilter-feedingstrategiesarerecordedbytheburrowmorphologiespre-\\nsentintheCerroToroFormation,consistentwithtrace-fossilassemblages\\n\\nofthe\\nGlossifungitesichnofaciesobservedinshallow-watersettings\\n(PembertonandFrey,1985;MacEachernetal.,1992).Theinferredex-\\n\\ntremepenetrationdepthoftheburrowssuggeststhateither(1)organisms\\n\\nburroweddeeplytoavoidexcessivelyturbulentgravityßowspassingover\\n\\ntheseaßooror(2)organismswerealsodeposit-feedingonorganicma-\\n\\nterialwithinthepoorlysortedmuddyconglomeratedeposits.Tracefossils\\n\\ndivertaroundclastswithintheconglomeraticmudstone(Figs.4AÐB;5EÐ\\n\\nF),revealingahighlypersistentburrowingbehaviorrelatedpossiblyto\\n\\nanecessitytoforageforfood.Organismsmayhavebeenforcedtomodify\\n\\ntheirfeedingstrategiesperiodically,Þlterfeedingduringperiodswhere\\n\\nsediment-gravityßowsweresupplyingfoodanddepositfeedingduring\\n\\ntimesofrelativequiescenceontheseaßoor.Insettingscharacterizedby\\n\\nßuctuatinglevelsoffoodavailabilityorvaryingenvironmentalcondi-\\n\\ntions,organismshavebeenobservedtomodifytheirfeedingstrategy\\n228PALAIOSHUBBARDANDSHULTZ\\nPALAIOS229DEEP-SEAFIRMGROUNDTRACEFOSSILS\\nFIGURE6\\nÑStratigraphiccorrelationsintheconglomeraticmemberoftheCerro\\nToroFormation,CordilleraManuelSen\\n÷oret.Noteeachsectionislocatednearthe\\npaleochannelaxis.SeeFigure1forsectionlocations.Locationofwidespread\\nGlos-sifungitessurface(primarysurface,P1),aswellasmorelocalburrowedhorizons\\n(secondarysurfaces,S1ÐS4)areindicated.NoteallphotospresentedinFigures\\n\\n4Ð5featuretracefossilsassociatedwithsurfaceP1,withtheexceptionofFig.5C\\n\\n(fromS1),Fig.5G(fromS4),andFig.5H(fromS1).\\nFIGURE5\\nÑFirmgroundtracefossilsoftheCerroToroFormation.A)\\nDiplocraterionexposedfor\\n50cmalonganoutcropface(VentanaCreek,175m).Scalemarked\\nat10-cmintervals.B)Close-upof\\nDiplocraterionfromboxoutlinedin(A).C)Detailofsandyspreiteassociatedwithaprotrusive\\nDiplocraterion(CerroCastillo,122.1\\nm).D)BasalterminationofaU-shapedburrowinmuddy,matrix-supportedconglomerate(CerroCastillo,195.5m).E)\\nSkolithosdivertedaroundclasts(CerroCastillo,\\n197.5m).F)\\nDiplocraterionexcavatedbetweenclastsinclast-richportionofmuddyconglomeratedeposit(VentanaCreek,174.2m).G)Isolated\\nArenicolitesinareaof\\nlowbioturbation(CerroCastillo,320.1m).H)Poorlydeveloped\\nGlossifungitesassemblageconsistingofdiminutive\\nDiplocraterion(CerroCastillo,123.1m).SeeFigure1\\nforsectionlocations.\\n(Cade«e,1984;Shimeta,1996).Goerke(1971)recognizedtheabilityof\\npolychaetewormstochangetheirfeedingmethod,bothdepositfeeding\\n\\nandsuspensionfeeding,inresponsetochangingphysicalorchemical\\n\\nparameters,includingfoodavailability.\\nOriginofFirmgroundsintheDeepSea\\nFirmgroundsaremostcommonlydocumentedinsedimentsthatwere\\ndepositedinshallow-watersettings(e.g.,PembertonandFrey,1985;Gin-\\n\\ngrasetal.,2001).Associatedsurfacesareoftenconsideredtobeindic-\\n\\nativeofaregionalstratigraphicdiscontinuityowingtothefactthatthe\\n\\nformationofÞrmgroundsintheseenvironmentsinvolveseither(1)de-\\n\\nwateringofmudcausedbyprolongedperiodsofsubaerialexposureor\\n\\n(2)burialofÞne-grainedsedimentsandatleastpartialdewateringfol-\\n\\nlowedbyexhumationandcolonizationbyburrowingorganismsonthe\\n\\nseaßoor(PembertonandFrey,1985).Exhumationisassociatedtypically\\n\\nwithstormactivityorrelativesea-levelßuctuationsinshallowmarine\\n\\nenvironments(PembertonandFrey,1985;MacEachernetal.,1992).\\nThegenerationofwidespreadÞrmgrounds,andtheirsubsequentcol-\\nonizationisnotaswellunderstoodindeep-watersettings.Incisioninto\\n\\nsemilithiÞedsedimentbysubmarinecanyonprocessescanresultinex-\\n\\nposureofmediasuitableforcolonizationbyÞrmgroundburrowers(e.g.,\\n\\nHayward,1976;Andersonetal.,2006).Thestudyareaisconsideredto\\n\\nbewelldown-systemofanareathatmaybeassociatedwithpaleosub-\\n\\nmarinecanyonprocesses(Scott,1966;WinnandDott,1979).Further-\\n\\nmore,theßat-lyingstratalgeometryoftheburrowedhorizonisnotcon-\\n\\nsistentwithanincisedcanyon(Fig.6).Thicksuccessionsofconstruc-\\n\\ntionalchanneloverbankdepositsadjacenttothecoarse-graineddeposits\\n\\nintheformation(Beaubouef,2004;Hubbardetal.,2008)aremoretypical\\n\\nofsubmarine-fandeposits(Galloway,1998).\\nIncertainbathyalenvironments,Þrmgroundcolonizationhasbeendoc-\\numentedwheresediment(carbonateooze)consolidationtookplace\\n\\nthroughearlyseaßoordiagenesisorcementation(BromleyandAllouc,\\n\\n1992).TheCerroToroFormationcontainsverylittlecarbonatematerial,\\n\\nsoearlyseaßoorcementationisnotconsideredtohavebeenimportant.\\n\\nAdditionally,cementedhardgroundsobservedbyBromleyandAllouc\\n\\n(1992)were\\n5cmthick,andtherefore,itisunlikelythatburrowssev-\\neralmeterslongwouldbeexcavatedinsedimentconsolidatedthrough\\n\\nsuchaprocess.\\nAnothermechanismforÞrmgroundformationisrelatedtoaprocess\\nbywhichmud-matrix-supportedconglomeraticdepositswereemplaced\\n\\ninacohesive,semiÞrmstate.Extrabasinalconglomerateclastsupto14\\n\\ncmindiameteraresupportedwithinthecolonizeddeposits,evidencethat\\n\\nthegravity-ßowdepositwashighlycompetentupondeposition(Hamp-\\n\\nton,1975;Lowe,1982).Geotechnicalmeasurementsofconglomeratic\\n\\nmudstoneonthemodernseaßoorarenotavailable,butitisplausiblethat\\n\\ntheyhaveshear-strengthvalueswithintherangeandlikelyatthelower\\n\\nendofothercolonizedÞrmgroundsÑ60Ð1,000,000kPaasmeasuredin\\n\\nmodern,shallowtidalenvironments(Gingrasetal.,2000).\\nIftheprocessofemplacementofdepositsinaÞrmstaterepresented\\nthemethodforÞrmgroundgenerationintheCerroToroFormation,trace\\n\\nfossilsofthe\\nGlossifungitesichnofacieswouldexpectedlycharacterize\\nnumeroushorizonsthroughoutthestratigraphicsuccession.Sediment\\n\\ngravity-ßowdepositssimilartothatcolonizedarepresentatmanyele-\\n\\nvationsinthestratigraphicsuccession(e.g.,atleast15muddyconglom-\\n\\nerateunitsatVentanaCreek;seeFig.6),yetfewarecharacterizedby\\n\\nGlossifungitestrace-fossilassemblages.Inthismodel,thetimetogen-\\nerateawell-developed\\nGlossifungitesichnofossilsuitewouldbelimited\\ntothetimeittakesfortheorganismstospreadacrosstheMagallanes\\n\\nbasinßoorandcolonizetheÞrmground.Experimentalstudieshaveshown\\n\\nthatcolonizationofdeep-watersoftgroundcantakebetween2and5\\n\\nyearsforsomepolychaeteworms(Grassle,1977;GrassleandMorse-\\n\\nPorteous,1987).Certainly,atsimilarcolonizationrates,manymoreof\\n\\nthemuddyconglomeratedepositsthroughoutthestratigraphicsuccession\\n\\nwouldhavebeenexposedatthesurfaceforanamountoftimeconducive\\n\\ntoÞrmgroundburrowing.Forexample,thefrequencyoflargegravity-\\n\\nßoweventsfromonesubmarinefaninatectonicallyactiveregionover\\n\\nthelast25kahasbeendeterminedtobeontheorderofhundredsof\\n\\nyears(NormarkandMcGann,2004).Amodelwherebycolonizedde-\\n\\npositswereemplacedinaÞrmstate,therefore,isdiscounted.\\nLargeslumpeventshavebeenobservedtoleavewidespreadscarsup\\nto76,000km\\n2onthecontinentalslope,atthebaseofslope,andonbasin-\\nßoorfans(Buggeetal.,1987).Sucheventshavebeendocumentedto\\n\\nexposeoverconsolidatedsediments(e.g.,Baltzeretal.,1994),butasso-\\n\\nciatedÞrmgroundcolonizationhasnotbeendocumentedpreviously.Itis\\n230PALAIOSHUBBARDANDSHULTZ\\nFIGURE7\\nÑSedimentgravity-ßowdepositcharacterizedbythe\\nGlossifungitesichnofaciesatVentanaCreek.A)Colonizedsedimentationunit.B)Close-upoftraction-\\nstructuredconglomerateÞllinganerosionalscouratthetopoftheunit,evidenceoftheerosivegravity-ßowsthatlargelybypassedthearea,exhumi\\nngthewidespread\\nÞrmground.Notetracefossilsareabsentbeneathlagdeposits,indicatingemplacementpriortocolonization.(C)Sketchofphotographinpart(A).\\nplausiblethatthismechanismwasresponsibleforwidespreadÞrmground\\nexposureintheCerroToroFormation.\\nItislikelythatthepaleodepositionalslopeinthestudyareawasinthe\\nrangeassociatedwiththeoriginationofslumporslidemovement(aslow\\n\\nas0.01\\n;seePriorandColeman,1978),basedoncalculationsbyWinn\\nandDott(1979).Glideplaneshavebeenrecognizedtofollowplanar\\n\\nstratigraphichorizons(beddingplanes),suchasthoseassociatedwiththe\\n\\nGlossifungitesichnofaciesinthestudyarea(Hamptonetal.,1996).The\\nheadofaslumpscarphasnotbeenrecognizedintheoutcropbelt,pos-\\n\\nsiblyasaconsequenceofthefeaturebeingbroaderthantheexposure.It\\n\\nisimportanttonote,however,thatlarge-scaleslumpandslidedeposits\\n\\nhavenotyetbeenidentiÞedwithinthestudyintervalsouthofSierradel\\n\\nToro(Fig.1A).Withoutsupportingsedimentologicalevidence,thismodel\\n\\nforÞrmgroundgenerationisalsonotfavored.\\nRecently,widespreadÞrmgroundsdevelopedinaCenozoicslopesuc-\\ncessionasaresultoferosionbybottomcurrentshasconvincinglybeen\\n\\ndocumentedofftheeastcoastoftheUnitedStates(Savrdaetal.,2001).\\n\\nThenarrowMagallanesbasinwasclosed\\n100kmtothenorthofthe\\nstudyarea,however(Mun\\n÷ozCristi,1956;ArbeandHechem,1984).Bot-\\ntomcurrentsinmodernenclosedbasinsarenotasstrongasthoseinthe\\n\\nopenoceanandareassociatedwiththeerosionandmovementofonly\\n\\nÞnesediment(Roveri,2002).Althoughthismodelcannotbeeliminated\\n\\nasapossibilityforthecreationoftheÞrmgroundinthestudyarea,it\\n\\nmaybeunlikelythatacontourcurrentcouldhavedevelopedthatwas\\n\\nabletoerodethethick-beddedturbiditycurrentdepositscharacteristicof\\n\\ntheCerroToroFormation.\\nAnalternativemodelforÞrmgroundgenerationindeep-seasettings\\ninvolvesregional-scale,turbidity-currenterosion,whichsculptedthenar-\\nrowforedeepoftheMagallanesbasin.Thekeyelementsofthismodel\\n\\ninclude(1)widespreaddepositionofmuddyconglomeratedeposits,(2)\\n\\ndewateringorconsolidationofsedimentthroughburialbysandyturbidity\\n\\ncurrentdeposits,(3)exhumationbyhigh-energy,erosiveturbiditycur-\\n\\nrents,evidencedbytraction-structuredsandstoneandconglomeratethat\\n\\nwasdepositedbylargelybypassingßowsthaterodedandÞlledtopo-\\n\\ngraphiclows(Fig.7),and(4)colonizationofthebasinßoorbyÞrm-\\n\\ngroundburrowers.Theoccurrenceofthreecloselyspaced\\nGlossifungitessurfacesatCerroCastillo(S2,P1,S3;seeFig.6)suggeststhatthebasin\\n\\nßoorwasrepeatedlyburiedandreexhumedlocally.Propensityforerosion\\n\\natCerroCastilloislikelyrelatedtoitspositioninthefanchannelsystem,\\n\\nperhapsassociatedwithabreakinslopeorachangeinchannelplanform\\n\\narchitecture(cf.Pirmezetal.,2000;Hubbardetal.,2008).Itisreasonable\\n\\ntoconcludethatturbulentprocessesassociatedwithgravityßowsinthe\\n\\nthalwegofthechannelbeltweresufÞcientenoughtoexhumecompacted\\n\\nsedimentintheCerroToroFormationovergreatdistances,basedon\\n\\nanalogyfromsimilardepositsinthemodernandfromtheHolocenere-\\n\\ncord(e.g.,Normarketal.,1993).ThismodelforÞrmgroundgeneration\\n\\nispreferredandappearsconsistentwithsedimentologicalobservations.\\nStratigraphicImplications\\nTherelativelywidespreadÞrmground(P1;Fig.6)wasexposedbya\\nsigniÞcant,erosivegravity-ßoweventorseriesofeventsthatlargelyby-\\n\\npassedtheregion,recordedbylocallagsonthestratigraphicsurface(Fig.\\n\\n7).Onlysmaller,sand-andmud-dominatedsediment-gravityßowspassed\\nPALAIOS231DEEP-SEAFIRMGROUNDTRACEFOSSILS\\noverthestudyareaduringcolonizationoftheÞrmground,evidencedby\\nsandypassiveburrowÞlls(Fig.4)andthepresenceofthin,lenticular\\n\\nsandstonebedsonthecolonizedsurfacelocally.Sand-deÞnedspreite\\n\\n(Figs.5AÐC,F)indicatealsothatsandwasavailabletothetracemakers\\n\\nduringcolonization.Locallyexposedandpoorlydeveloped\\nGlossifungi-tesassemblages(S1ÐS4;seeFig.6)mostlikelyresultedfromcoloniza-\\ntionassociatedwithaeriallylimitedÞrmgrounds,formedthroughlocal-\\n\\nizedscourofthechannelßoor.\\nTheuniquenessoftheP1surfaceinthestratigraphicsuccessionand\\nitsinterpretedmodeofformationsuggestthatitrepresentsanimportant\\n\\nstratigraphicdiscontinuity.Gingrasetal.(2000)proposedamethodfor\\n\\ndeterminingthetemporalsigniÞcanceofmodern,intertidalÞrmgrounds\\n\\nbasedonthepremisethatburrowsofthe\\nGlossifungitesichnofaciescan\\nbeassociatedwitharangeofseaßoorshearstrengths.Importantly,in\\n\\ntheirstudy,ÞrmgroundsthatweretemporallymostsigniÞcant(associated\\n\\nwiththehighestvaluesofmediashearstrength)werecharacterizedby\\n\\nplanartogentlyundulatingomissionsurfaces.Further,theynotedthat\\n\\nburrowsassociatedwithexcavationintooriginallylessÞrmsediments\\n\\nshowtheeffectsofcompactionuponburial(i.e.,deformedburrowar-\\n\\nchitecture).TheÞrmgroundassemblageisinterpretedtorecordcoloni-\\n\\nzationofawell-induratedmediabasedonthenatureofthelow,broadly\\n\\nundulatingtoßat-lyingtopographicreliefassociatedwithP1(Fig.4E)\\n\\nandthelackofcompactionaldeformationoftheburrows(Figs.4Ð5).\\n\\nFromtheintertidalenvironment,theimportanceofsuchsurfacesiscer-\\n\\ntain,asthemosttemporallysigniÞcantcolonizedÞrmgroundassessedby\\n\\nGingrasetal.(2000)representsastratigraphicdiscontinuityof100Ð200\\n\\nka.ThetemporalsigniÞcanceofthedeep-seaÞrmground(P1)studiedis\\n\\nuncertain;however,adiscontinuityofsimilarmagnitudeduringtheLate\\n\\nCretaceousintheMagallanesbasincouldbeattributabletotectonicpuls-\\n\\nesintherisingPatagonianAndes(Hubbardetal.,2008).\\nTheexhumationofÞrmgroundsinshallow-waterenvironmentsistied\\ndirectlytorelativesea-levelßuctuationsandthecorrespondinglandward\\n\\norbasinwardsteppingofshorelineprocessesÑtransgressiveorlowstand-\\n\\nregressiveerosion(Savrda,1991;MacEachernetal.,1992;Pemberton\\n\\nandMacEachern,1995).Adirectrelationshipbetweensea-levelßuctu-\\nationandwidespreaderosionisnotnecessaryindeep-watersettings\\n(Normarketal.,1998).Intheonlycomprehensivestudyofwidespread\\nÞrmgroundcolonizationinsiliciclasticdeep-seadeposits,Savrdaetal.\\n(2001)postulatedthatperiodsofsedimentstarvationrelatedtotrans-\\n\\ngressiveormaximumhighstandconditions,coupledwithaggressivebot-\\ntomcurrents,ledtoneterosionandexposureofextensiveÞrmgrounds.\\nTheirstudyfocusedonslopedepositsofftheAtlanticmarginofNorth\\n\\nAmerica,wherebottomcurrentsareknowntobeprevalent(Stowand\\n\\nHolbrook,1984).Inthefan-channeldepositsoftheCretaceousMagal-\\n\\nlanesbasin,alinkbetweenÞrmgroundsurfacesandsea-levelßuctuations\\nisnotevident,despitethelocationofP1near,oratthetopof,athick\\npackageofmuddyconglomeratebeds(Fig.6).Itistemptingtointerpret\\nthealternationofmud-andsand-richconglomeratepackagesasare-\\n\\nsponsetocyclicsea-levelßuctuations(cf.Posamentieretal.,1991;Nor-\\n\\nmarketal.,1998),withthe\\nGlossifungitessurface(P1)representinga\\ncondensedintervalassociatedwithmaximumsea-levelrisewhencoarse-\\ngrainedsedimentwassequesteredontheshelfandexhumedÞrmgrounds\\ncolonizedonthebasinßoor.ThisinterpretationisdifÞculttotest,how-\\n\\never,becausechannelerosionprocesseshaveeffectivelyprecludedpres-\\n\\nervationofwidespread,potentiallyfossiliferousconcordantmudstone\\nbeds.Furthermore,bodyfossilsarepreservedpoorlyorabsentinmuch\\nofthestudyarea(Katz,1963;Scott,1966;Macellari,1988).Thehigh-\\n\\nresolutionbiostratigraphicorgeochemicalcorrelationsnecessaryforval-\\nidatingasequencestratigraphicframework,thus,areimpossibletomake\\n\\nwiththedataavailable.\\nTheutilityoftracefossilsindeÞningimportantmarkerhorizonsata\\nregionalscalehasbeenestablishedinnumerousbasins(e.g.,Mortimore\\n\\nandPomerol,1991;Olo\\n«rizandRodrõ\\n«guez-Tovar,2000),includingthose\\nassociatedwithmedia-controlledtrace-fossilsuites(e.g.,Bromleyand\\n\\nGale,1982).Intheabsenceofbodyfossilsandashbeds(Scott,1966;\\nWinnandDott,1979),thecorrelative\\nGlossifungitessurface(P1;seeFig.\\n6)representstheonlypotentialchronostratigraphicmarkerhorizonwithin\\n\\nthe350-m-thickconglomeraticsectionoftheCerroToroFormationin\\ntheCordilleraManuelSen\\n÷oret.\\nSUMMARYANDCONCLUSIONS\\n1.ArelativelyextensiveÞrmgroundsurfaceispreservedwithinLate\\nCretaceousdeep-watersedimentaryrocksoftheMagallanesbasinin\\n\\nsouthernChile,recognizedbythepresenceoftracefossilsofthemedia-\\n\\ncontrolledGlossifungitesichnofacies.Thecolonizedhorizonischarac-\\nterizedbythetracefossils\\nDiplocraterion,Skolithos,and\\nArenicolites,whichpenetratedthepaleomediauptoaninferred7m,basedonthe\\n\\npresenceoftracefossilsnearthebasesofsedimentationunits6Ð8m\\n\\nthick.Colonizationwasassociatedwithamuddy,matrix-supportedcon-\\n\\nglomeraticunitthataverages6Ð9mthick.Theburrowswereexcavated\\n\\nbywormsthatadoptedbothÞlter-anddeposit-feedingstrategiesinre-\\n\\nsponsetovaryingenvironmentalconditionsontheMagallanesbasin\\n\\nßoor,duringatimeperiodwhenhigh-energy,gravellygravityßows\\n\\nceasedtopassthroughthechannelenvironment.\\n2.ThesurfacerepresentstheÞrstdocumentedexampleofthe\\nGlos-sifungitesichnofaciesassociatedwithasuccessionofthick-bedded\\ngravity-ßowdepositsinabase-of-slopeandbasin-ßoor-fanchannelen-\\n\\nvironment.Firmgroundformationisinterpretedtohaveoccurredasfol-\\n\\nlows:(a)widespreademplacementofmuddy,conglomeraticgravity-ßow\\n\\ndeposits,(b)dewateringorÞrmingthroughburialbyturbidites,and(c)\\n\\nexhumationofsedimentbyerosiveturbiditycurrents.\\n3.Thewidespreadstratigraphichorizoncharacterizedbytracefossils\\nofthe\\nGlossifungitesichnofaciesrepresentsanimportantstratigraphicdis-\\ncontinuitywithintheCerroToroFormation.Thesurfacerepresentsthe\\n\\nbestmarkerhorizonavailablewithinthestudyarea.\\nACKNOWLEDGMENTSWearegratefultotheStanfordProjectOnDeep-WaterDepositional\\nSystems,aconsortiumofenergycompaniesthatincludesAmeradaHess,\\n\\nAnadarko,ChevronTexaco,Conoco-Phillips,ENI-AGIP,ExxonMobil,\\n\\nHuskyEnergy,Marathon,Nexen,OccidentalPetroleum,Petrobras,and\\n\\nRoho¬l-AufsuchungsAG,forÞnancialsupportofourresearch.BrianRo-\\nmans(StanfordUniversity)andMarceloSolari(UniversidaddeChile,\\n\\nSantiago)ablyassistedwithÞeldwork.Drs.SteveGrahamandDonLowe\\n\\n(StanfordUniversity)reviewedanearlierversionofthemanuscript,and\\n\\ntheirinsightsaremuchappreciated.InputfromPALAIOSreviewers\\n\\n(RickBeaubouefandananonymousreviewer),aswellasAssociateEd-\\n\\nitorJohn-PaulZonneveldandEditorStephenHasiotis,improvedtheclar-\\n\\nityandfocusofthepaper.\\nREFERENCESANDERSON\\n,K.S.,G\\nRAHAM\\n,S.A.,andH\\nUBBARD\\n,S.M.,2006,Facies,architectureand\\noriginofareservoir-scalesand-richsuccessionwithinsubmarinecanyonÞll:In-\\n\\nsightsfromWagonCavesRock(Paleocene),SantaLuciaRange,California:Jour-\\n\\nnalofSedimentaryResearch,v.76,p.819Ð838.\\nARBE,H.A.,andH\\nECHEM\\n,J.J.,1984,Estratigraphiayfaciesdedepositosmarinos\\nprofundosdelCretacioSuperior,LagoArgentino,ProvinciadeSantaCruz:Con-\\n\\ngresoGeologicoArgentinoActasv.5,p.7Ð41.\\nBALTZER\\n,A.,C\\nOCHONAT\\n,P.,andP\\nIPER\\n,D.J.W.,1994,Insitugeotechnicalcharacter-\\nizationofsedimentsontheNovaScotianSlope,easternCanadiancontinental\\n\\nmargin:MarineGeology,v.120,p.291Ð308.\\nBEAUBOUEF\\n,R.T.,2004,Deep-waterleveed-channelcomplexesoftheCerroToro\\nFormation,UpperCretaceous,southernChile:AmericanAssociationofPetroleum\\n\\nGeologistsBulletin,v.88,p.1471Ð1500.\\nBROMLEY\\n,R.G.,andA\\nLLOUC\\n,J.,1992,Tracefossilsinbathyalhardgrounds,Medi-\\nterraneanSea:Ichnos,v.2,p.43Ð54.\\nBROMLEY\\n,R.G.,andG\\nALE\\n,A.S.,1982,ThelithostratigraphyoftheEnglishchalk\\nrock:CretaceousResearch,v.3,p.273Ð306.\\nBRUSCA\\n,R.C.,andB\\nRUSCA\\n,G.J.,2003,Invertebrates:2nded.,SinauerAssociates,\\nSunderland,Massachusetts,936p.\\nBUGGE\\n,T.,B\\nEFRING\\n,S.,B\\nELDERSON\\n,R.H.,E\\nIDVIN,T.,J\\nANSEN\\n,E.,K\\nENYON\\n,N.H.,H\\nOL-232PALAIOSHUBBARDANDSHULTZ\\nTEDAHL\\n,H.,andS\\nEJRUP\\n,H.P.,1987,Agiantthree-stagesubmarineslideoffNor-\\nway:Geo-MarineLetters,v.7,p.191Ð198.\\nCADE\\n«E,C.G.,1984,Opportunisticfeeding,aseriouspitfallintrophicstructureanal-\\nysisof(paleo)faunas:Lethaia,v.17,p.289Ð292.\\nCRANE\\n,W.H.,2004,DepositonalhistoryoftheUpperCretaceousCerroToroFor-\\nmation,SillaSyncline,MagallanesBasin,Chile:UnpublishedPh.D.dissertation,\\n\\nStanfordUniversity,Stanford,California,275p.\\nCRANE\\n,W.H.,2007,Texturaltrendsinaconglomeraticslurryßowdeposit,Creta-\\nceousCerroToroFormation,Chile:Implicationsfordebrisßowtransformation:\\n\\nAmericanAssociationofPetroleumGeologists,AnnualMeetingAbstracts(digi-\\n\\ntal),LongBeach,California.\\nFILDANI\\n,A.,C\\nOPE\\n,T.D.,G\\nRAHAM\\n,S.A.,andW\\nOODEN\\n,J.L.,2003,Initiationofthe\\nMagallanesforelandbasin:TimingofthesouthernmostPatagonianAndesorogeny\\n\\nrevisedbydetritalzirconprovenanceanalysis:Geology,v.31,p.1081Ð1084.\\nFREY,R.W.,andS\\nEILACHER\\n,A.,1980,Uniformityinmarineinvertebrateichnology:\\nLethaia,v.13,p.183Ð207.\\nGALLOWAY\\n,W.E.,1998,Siliciclasticslopeandbase-of-slopedepositionalsystems:\\nComponentfacies,stratigraphicarchitecture,andclassiÞcation:AmericanAsso-\\nciationofPetroleumGeologistsBulletin,v.82,p.569Ð595.\\nGINGRAS\\n,M.K.,P\\nEMBERTON,S.G.,andS\\nAUNDERS\\n,T.,2000,FirmnessproÞlesassoci-\\natedwithtidal-creekdeposits:ThetemporalsigniÞcanceof\\nGlossifungitesassem-blages:JournalofSedimentaryResearch,v.70,p.1017Ð1025.\\nGINGRAS\\n,M.K.,P\\nEMBERTON,S.G.,andS\\nAUNDERS\\n,T.,2001,Bathymetry,sedimenttex-\\nture,andsubstratecohesiveness:Theirimpactonmodern\\nGlossifungitestraceas-\\nsemblagesatWillapaBay,Washington:Palaeogeography,Palaeoclimatology,Pa-\\nlaeoecology,v.169,p.1Ð21.\\nGOERKE\\n,H.,1971,DieernahrungsweisederNereis-Arten(Polychaeta,Nereidae)der\\ndeutschenKusten:VeroffentlichungenInstitutMeersforschungBremerhaven,v.\\n\\n13,p.1Ð50.\\nGRASSLE\\n,J.F.,1977,Slowrecolonizationofdeep-seasediment:Nature,v.265,p.\\n618Ð619.\\nGRASSLE\\n,J.F.,andM\\nORSE\\n-PORTEOUS\\n,L.S.,1987,Microfaunalcolonizationofdis-\\nturbeddeep-seaenvironmentsandthestructureofdeep-seabenthiccommunities:\\n\\nDeep-SeaResearch,v.34,p.1911Ð1950.\\nHAGERMAN\\n,G.M.,andR\\nIEGER,R.M.,1981,Dispersalofbenthicmeiofaunabywave\\nandcurrentactioninBogueSound,NorthCarolina,U.S.A.:MarineEcology,v.\\n2,p.245Ð270.\\nHAMPTON\\n,M.A.,1975,CompetenceofÞne-graineddebrisßows:JournalofSedi-\\nmentaryPetrology,v.45,p.834Ð844.\\nHAMPTON\\n,M.A.,L\\nEE,H.J.,andL\\nOCAT,J.,1996,Submarinelandslides:Reviewsof\\nGeophysics,v.34,p.33Ð59.\\nHAYWARD\\n,B.W.,1976,LowerMiocenebathyalandsubmarinecanyonichnocoenoses\\nfromNorthland,NewZealand:Lethaia,v.9,p.149Ð162.\\nHUBBARD,S.M.,R\\nOMANS\\n,B.W.,andG\\nRAHAM\\n,S.A.,2008,Deep-waterforelandbasin\\ndepositsoftheCerroToroFormation,Magallanesbasin,Chile:Architecturalel-\\nementsofasinuousbasinaxialchannelbelt:Sedimentology,v.55,doi:10.1111/\\nj.1365-3091.2007.00948.x.KATZ\\n,H.R.,1963,RevisionofCretaceousstratigraphyinPatagonianCordilleraof\\nUltimaEsperanza,MagallanesProvince,Chile:AmericanAssociationofPetro-\\nleumGeologistsBulletin,v.47,p.506Ð524.\\nLOWE\\n,D.R.,1982,Sedimentgravityßows:II.Depositionalmodelswithspecialref-\\nerencetothedepositsofhigh-densityturbiditycurrents:JournalofSedimentary\\nPetrology,v.52,p.279Ð297.\\nMACEACHERN\\n,J.A.,andB\\nURTON\\n,J.A.,2000,Firmground\\nZoophycosintheLower\\nCretaceousVikingFormation,Alberta:Adistalexpressionofthe\\nGlossifungitesIchnofacies:PALAIOS,v.15,p.387Ð398.\\nMACEACHERN\\n,J.A.,R\\nAYCHAUDHURI\\n,I.,andP\\nEMBERTON\\n,S.G.,1992,Stratigraphicap-\\nplicationsofthe\\nGlossifungitesichnofacies:Delineatingdiscontinuitiesintherock\\nrecord,inPemberton,S.G.,ed.,ApplicationsofIchnologytoPetroleumExplo-\\nration,ACoreWorkshop:SEPM(SocietyforSedimentaryGeology)CoreWork-\\nshop17,p.169Ð198.\\nMACELLARI\\n,C.E.,1988,LateCretaceousKossmaticeratidae(Ammonoidea)fromthe\\nMagallanesBasin,Chile:JournalofPaleontology,v.62,p.889Ð905.\\nMORTIMORE\\n,R.N.,andP\\nOMEROL\\n,B.,1991,Stratigraphyandeustaticimplicationsof\\ntracefossileventsintheUpperCretaceouschalkofnorthernEurope:PALAIOS,\\nv.6,p.216Ð231.\\nMUN÷OZCRISTI,J.,1956,Chile,\\ninJenks,W.F.,ed.,HandbookofSouthAmerican\\nGeology:SEPM(SocietyforSedimentaryGeology)SpecialPublications,v.65,\\n\\np.187Ð214.\\nNATLAND\\n,M.L.,G\\nONZALEZ\\n,E.,C\\nANON\\n,A.,andE\\nRNST,M.,1974,Asystemofstages\\nforcorrelationofMagallanesBasinsediments:GeologicalSocietyofAmerica\\n\\nMemoir139,126p.\\nNORMARK\\n,W.R.,andM\\nCGANN\\n,M.,2004,LateQuaternarydepositionintheinner\\nbasinsoftheCaliforniacontinentalborderland:PtA.SantaMonicaBasin:U.S\\nGeologicalSurveyScientiÞcInvestigationsReport2004-5183:UnitedStatesGeo-\\nlogicalSurvey,MenloPark,California,21p.\\nNORMARK\\n,W.R.,P\\nIPER\\n,D.J.W.,andH\\nISCOTT\\n,R.N.,1998,Sealevelcontrolsonthe\\ntexturalcharacteristicsanddepositionalarchitectureoftheHuenemeandassoci-\\n\\natedsubmarinefansystems,SantaMonicaBasin,California:Sedimentology,v.\\n\\n45,p.53Ð70.\\nNORMARK\\n,W.R.,P\\nOSAMENTIER\\n,H.,andM\\nUTTI\\n,E.,1993,Turbiditesystems:Stateof\\ntheartandfuturedirections:ReviewsofGeophysics,v.31,p.91Ð116.\\nOLO«RIZ,F.,andR\\nODRõ«QUEZ\\n-TOVAR\\n,F.J.,2000,\\nDiplocraterion:Ausefulmarkerfor\\nsequencestratigraphyandcorrelationintheKimmeridgian,Jurassic(Prebetic\\n\\nZone,BeticCordillera,southernSpain:PALAIOS,v.15,p.546Ð552.\\nPEMBERTON\\n,S.G.,andF\\nREY,R.W.,1985,The\\nGlossifungitesichnofacies:Modernex-\\namplesfromtheGeorgiacoast,U.S.A.,\\ninCurran,H.A.,ed.,BiogenicStructures:\\nTheirUseinInterpretingDepositionalEnvironments:SEPM(SocietyforSedi-\\n\\nmentaryGeology)SpecialPublications,v.35,p.237Ð259.\\nPEMBERTON\\n,S.G.,andM\\nACEACHERN\\n,J.A.,1995,ThesequencestratigraphicsigniÞ-\\ncanceoftracefossils:ExamplesfromtheCretaceousforelandbasinofAlberta,\\n\\nCanada,inVanWagoner,J.C.,andBertram,G.,eds.,SequenceStratigraphyof\\nForelandBasinDeposits:OutcropandSubsurfaceExamplesfromtheCretaceous\\n\\nofNorthAmerica:AmericanAssociationofPetroleumGeologistsMemoirs,v.\\n\\n64,p.429Ð475.\\nPEMBERTON\\n,S.G.,andM\\nACEACHERN\\n,J.A.,1997,Theichnologicalsignatureofstorm\\ndeposits:Theuseoftracefossilsineventstratigraphy,\\ninBrett,C.E.,andBaird,\\nG.C.,eds.,PaleontologicalEvents:ColumbiaUniversityPress,NewYork,p.73Ð\\n\\n109.PIRMEZ\\n,C.,B\\nEAUBOUEF\\n,R.T.,F\\nRIEDMANN\\n,S.J.,andM\\nOHRIG,D.C.,2000,Equilibrium\\nproÞleandbaselevelinsubmarinechannels:ExamplesfromLatePleistocenesys-\\n\\ntemsandimplicationsforthearchitectureofdeepwaterreservoirs,inWeimer,P.,\\n\\nSlatt,R.M.,Coleman,J.,Rosen,N.C.,Nelsen,H.,Bouma,A.H.,Styzen,M.J.,\\n\\nandLawrence,D.T.,eds.,Deep-WaterReservoirsoftheWorld:GulfCoast\\n\\nSocietyÐSEPM(SocietyforSedimentaryGeology)20thAnnualResearchCon-\\n\\nference,p.782Ð805.\\nPOSAMENTIER\\n,H.W.,E\\nRSKINE\\n,R.D.,andM\\nITCHUM\\n,R.M.,J\\nR.,1991,Modelsforsub-\\nmarine-fandepositionwithinasequence-stratigraphicframework,\\ninWeimer,P.,\\nandLink,M.H.,eds.,SeismicFaciesandSedimentaryProcessesofSubmarine\\n\\nFansandTurbiditeSystems:Springer-Verlag,NewYork,p.127Ð136.\\nPRIOR\\n,D.B.,andC\\nOLEMAN\\n,J.M.,1978,Disintegrativeretrogressivelandslideson\\nvery-low-anglesubaqueousslopes,MississippiRiverDelta:MarineGeotechnol-\\nogy,v.3,p.37Ð60.\\nROVERI\\n,M.,2002,SedimentdriftsoftheCorsicaChannel,northernTyrrhenianSea,\\ninStow,D.A.V.,Pudsey,C.J.,Howe,J.A.,Faugeres,J.C.,andViana,A.R.,eds.,\\nDeep-WaterContouriteSystems:ModernDriftsandAncientSeries,Seismicand\\nSedimentaryCharacteristics:GeologicalSocietyofLondonMemoirs,v.22,p.\\n191Ð208.SAVRDA\\n,C.E.,1991,Ichnologyinsequencestratigraphicstudies:Anexamplefrom\\ntheLowerPaleoceneofAlabama:PALAIOS,v.6,p.39Ð53.\\nSAVRDA\\n,C.E.,B\\nROWNING,J.V.,K\\nRAWINKEL\\n,H.,andH\\nESSELBO\\n,S.P.,2001,Firmground\\nichnofabricsindeep-watersequencestratigraphy,Tertiaryclinoform-toedeposits,\\nNewJerseySlope:PALAIOS,v.16,p.294Ð305.\\nSCOTT\\n,K.M.,1966,SedimentologyanddispersalpatternofaCretaceousßyschse-\\nquence,PatagonianAndes,southernChile:AmericanAssociationofPetroleum\\nGeologistsBulletin,v.50,p.72Ð107.\\nSEILACHER\\n,A.,1964,Biogenicsedimentarystructures,\\ninImbrie,J.,andNewell,\\nN.D.,eds.,ApproachestoPaleoecology:JohnWiley,NewYork,p.296Ð316.\\nSHIMETA\\n,J.,1996,Particle-sizeselectionby\\nPseudopolydorapaucibranchiata\\n(Poly-chaeta:Spionidae)insuspensionfeedingandindepositfeeding:Inßuencesof\\n\\nontogenyandßowspeed:MarineBiology,v.126,p.479Ð488.\\nSHULTZ\\n,M.R.,andH\\nUBBARD\\n,S.M.,2005,Sedimentology,stratigraphicarchitecture,\\nandichnologyofgravity-ßowdepositspartiallypondedinagrowth-fault-\\ncontrolledslopeminibasin,TresPasosFormation(Cretaceous),southernChile:\\n\\nJournalofSedimentaryResearch,v.75,p.440Ð453.\\nSOHN\\n,Y.K.,C\\nHOE,M.Y.,andJ\\nO.,H.R.,2002,Transitionfromdebrisßowtohyper-\\nconcentratedßowinasubmarinechannel(theCretaceousCerroToroFormation,\\nsouthernChile):TerraNova,v.14,p.405Ð415.\\nSTOW\\n,D.A.V.,andH\\nOLBROOK\\n,J.A.,1984,NorthAtlanticcontourites:Anoverview,\\ninStow,D.A.V.,andPiper,D.J.W.,eds.,Fine-GrainedSediments:Deep-Water\\nProcessesandFacies:GeologicalSocietyofLondonSpecialPublications,v.15,\\n\\np.245Ð256.\\nWILSON\\n,T.J.,1991,Transitionfromback-arctoforelandbasindevelopmentinthe\\nsouthernmostAndes:StratigraphicrecordfromtheUltimaEsperanzaDistrict,\\n\\nChile:GeologicalSocietyofAmericaBulletin,v.103,p.98Ð111.\\nWINN,R.D.,andD\\nOTT\\n,R.H.,J\\nR.,1979,Deep-waterfan-channelconglomeratesof\\nLateCretaceousage,southernChile:Sedimentology,v.26,p.203Ð228.\\nACCEPTEDAUGUST2,2007\\n'"
      ]
     },
     "execution_count": 16,
     "metadata": {},
     "output_type": "execute_result"
    }
   ],
   "source": [
    "# What does a document look like? \n",
    "df.iloc[10,0]"
   ]
  },
  {
   "cell_type": "markdown",
   "metadata": {},
   "source": [
    "#### Documents look like they had a tough time reading in via pyPDFreader.\n",
    "Many run on words and strange sentence breaks.\n",
    "ie. \"itcannotbeconfusedwithanyotherpollentypes\"\n",
    "\n",
    "Furture work - see if there is another reader that would work a bit better"
   ]
  },
  {
   "cell_type": "code",
   "execution_count": 17,
   "metadata": {},
   "outputs": [],
   "source": [
    "# function to clean the text - from gensim.preprocessing module example\n",
    "from gensim import utils\n",
    "import gensim.parsing.preprocessing as gsp\n",
    "\n",
    "filters = [\n",
    "    gsp.strip_tags,     \n",
    "    gsp.strip_punctuation,\n",
    "    gsp.strip_numeric,\n",
    "    gsp.remove_stopwords, \n",
    "    gsp.strip_short, \n",
    "    gsp.stem_text,\n",
    "    gsp.strip_multiple_whitespaces \n",
    "          ]\n",
    "\n",
    "def clean_text(s):\n",
    "    s = s.lower()\n",
    "    s = utils.to_unicode(s)\n",
    "    for f in filters:\n",
    "        s = f(s)\n",
    "    return s"
   ]
  },
  {
   "cell_type": "code",
   "execution_count": 18,
   "metadata": {},
   "outputs": [],
   "source": [
    "#test it out first on one doc\n",
    "#clean_text(df.iloc[10,0])"
   ]
  },
  {
   "cell_type": "code",
   "execution_count": 19,
   "metadata": {},
   "outputs": [],
   "source": [
    "# Now do it for all documents \n",
    "df['text'] = df['text'].map(lambda x: clean_text(x))"
   ]
  },
  {
   "cell_type": "code",
   "execution_count": 20,
   "metadata": {},
   "outputs": [
    {
     "data": {
      "text/plain": [
       "0     proceed yorkshir geolog societi vol upper jura...\n",
       "1     triassicpalynologyofcentralandnorthwesterneuro...\n",
       "2     journalofsedimentaryresearch currentrippl doi ...\n",
       "3     ˆˆˆ˙ ˛kˆ c˝ˇ hh˛ hhˇ lk˘ hhˇ hhˇ˚ hhˇ d˜˛ hhˇ ...\n",
       "4     field excurs novemb tertiari format austin hou...\n",
       "5     journal geologi geophys vol note new zealand g...\n",
       "6     geologi juli www gsapub org introductionearli ...\n",
       "7     mesozoicandcenozoicsequencestratigraphyofeurop...\n",
       "8     repli estuarin faci model conceptu basi strati...\n",
       "9     ontheglobaldistributionoflatecretaceousostraco...\n",
       "10    copyright sepm societyforsedimentarygeolog pal...\n",
       "11    journalof sedimentari research vol arch copyri...\n",
       "12    volbeda etal chem soc specialissueonhydrogenas...\n",
       "13    originandcompositionoforganicmatterintidalﬂats...\n",
       "14    tidal iwc cretaceoo flwial strata utah usa kei...\n",
       "Name: text, dtype: object"
      ]
     },
     "execution_count": 20,
     "metadata": {},
     "output_type": "execute_result"
    }
   ],
   "source": [
    "# didn't work very well.. \n",
    "df['text'].head(15)"
   ]
  },
  {
   "cell_type": "code",
   "execution_count": 21,
   "metadata": {},
   "outputs": [],
   "source": [
    "df.to_pickle('assets/df_clean.pkl')"
   ]
  },
  {
   "cell_type": "markdown",
   "metadata": {},
   "source": [
    "### Let's try again with Corpus specific stop words"
   ]
  },
  {
   "cell_type": "code",
   "execution_count": 48,
   "metadata": {},
   "outputs": [],
   "source": [
    "import nltk\n",
    "from nltk.corpus import stopwords\n",
    "df = pd.read_pickle('assets/df_clean.pkl')"
   ]
  },
  {
   "cell_type": "code",
   "execution_count": 49,
   "metadata": {},
   "outputs": [],
   "source": [
    "\n",
    "specific = ['figs', 'fig', 'et', 'al', 'pl','appendix','figure','cm', 'ft', 'sp'\\\n",
    "            , 'pp', 'iv', 'etal', 'ed', 'eds', 'http', 'ma', 'th', 'tion', 'ing',\\\n",
    "           'cf', 'ii', 'www', 'tions', 'strati', 'km', 'com', 'bulletin', 'doi', \\\n",
    "            'org', 'society','springer', 'verlag', 'pa', 'spec', 'pub', 'assoc',\\\n",
    "            'publication','university', 'press', 'geologists', 'geological',\\\n",
    "            'association', 'ph', 'comm', 'pers', 'geol', 'surv', 'bull',\\\n",
    "            'journal', 'soc', 'sci', 'letters', 'lett', 'geophys', 'res',\\\n",
    "            'acad', 'mar', 'acad', 'palaeobotany', 'palaeoclimatology', \\\n",
    "            'palaeogeography','societies', 'bureau', 'economic', 'prof',\\\n",
    "            'palaeoecology','paper', 'file', 'report', 'open', 'london',\\\n",
    "            'america', 'elsevier','amsterdam', 'sepm', 'earthplanet',\\\n",
    "           'paleoclimatol', 'palaeoecol', 'np', 'sc', 'palaeogeogr', 'palaeoclimatol',\\\n",
    "            'american', 'geo', 'rev', 'journal', 'und', 'review', 'samples',\\\n",
    "            'collected', 'allrightsreserved', 'clim', 'elsevierb', 'cosmochim',\\\n",
    "            'sciencereviews', 'levelchanges', 'ne', 'sepmspec', 'publ', 'acta',\\\n",
    "           'internationalassociationofsedimentologists', 'palaeobot', 'polynol',\\\n",
    "           'sedi', 'ment', 'deposi', 'tional', 'odp','copyright']\n",
    "\n",
    "\n",
    "stop_words = nltk.corpus.stopwords.words('english')+ specific"
   ]
  },
  {
   "cell_type": "code",
   "execution_count": 50,
   "metadata": {},
   "outputs": [],
   "source": [
    "from nltk.tokenize import word_tokenize \n",
    "\n",
    "def remove_stop(s):\n",
    "    word_tokens = word_tokenize(s) \n",
    "    filtered_sentence = [w for w in word_tokens if not w in stop_words] \n",
    "    filtered_sentence = [] \n",
    "\n",
    "    for w in word_tokens: \n",
    "        if w not in stop_words: \n",
    "            filtered_sentence.append(w) \n",
    "           \n",
    "    return ' '.join(filtered_sentence)\n",
    "    "
   ]
  },
  {
   "cell_type": "code",
   "execution_count": 51,
   "metadata": {},
   "outputs": [],
   "source": [
    "df['text'] = df['text'].map(lambda x: remove_stop(x))"
   ]
  },
  {
   "cell_type": "code",
   "execution_count": 52,
   "metadata": {},
   "outputs": [
    {
     "data": {
      "text/plain": [
       "0     proceed yorkshir geolog societi vol upper jura...\n",
       "1     triassicpalynologyofcentralandnorthwesterneuro...\n",
       "2     journalofsedimentaryresearch currentrippl jsr ...\n",
       "3     ˆˆˆ˙ ˛kˆ c˝ˇ hh˛ hhˇ lk˘ hhˇ hhˇ˚ hhˇ d˜˛ hhˇ ...\n",
       "4     field excurs novemb tertiari format austin hou...\n",
       "5     geologi vol note new zealand geolog survei lat...\n",
       "6     geologi juli gsapub introductionearli cretac s...\n",
       "7     mesozoicandcenozoicsequencestratigraphyofeurop...\n",
       "8     repli estuarin faci model conceptu basi strati...\n",
       "9     ontheglobaldistributionoflatecretaceousostraco...\n",
       "10    societyforsedimentarygeolog palaio researchart...\n",
       "11    journalof sedimentari research vol arch copyri...\n",
       "12    volbeda chem specialissueonhydrogenas pickett ...\n",
       "13    originandcompositionoforganicmatterintidalﬂats...\n",
       "14    tidal iwc cretaceoo flwial strata utah usa kei...\n",
       "Name: text, dtype: object"
      ]
     },
     "execution_count": 52,
     "metadata": {},
     "output_type": "execute_result"
    }
   ],
   "source": [
    "df['text'].head(15)"
   ]
  },
  {
   "cell_type": "markdown",
   "metadata": {},
   "source": [
    "### Save to file for posterity"
   ]
  },
  {
   "cell_type": "code",
   "execution_count": 53,
   "metadata": {},
   "outputs": [],
   "source": [
    "df.to_pickle('assets/df_clean2.pkl')"
   ]
  },
  {
   "cell_type": "code",
   "execution_count": null,
   "metadata": {},
   "outputs": [],
   "source": []
  }
 ],
 "metadata": {
  "kernelspec": {
   "display_name": "Python 3",
   "language": "python",
   "name": "python3"
  },
  "language_info": {
   "codemirror_mode": {
    "name": "ipython",
    "version": 3
   },
   "file_extension": ".py",
   "mimetype": "text/x-python",
   "name": "python",
   "nbconvert_exporter": "python",
   "pygments_lexer": "ipython3",
   "version": "3.7.3"
  }
 },
 "nbformat": 4,
 "nbformat_minor": 2
}
